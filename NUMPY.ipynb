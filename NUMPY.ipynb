{
 "cells": [
  {
   "cell_type": "code",
   "execution_count": 55,
   "id": "da878e80",
   "metadata": {},
   "outputs": [],
   "source": [
    "import numpy as np\n"
   ]
  },
  {
   "cell_type": "markdown",
   "id": "9d594127",
   "metadata": {},
   "source": [
    "# List vs Numpy"
   ]
  },
  {
   "cell_type": "code",
   "execution_count": 14,
   "id": "101fa9ab",
   "metadata": {},
   "outputs": [],
   "source": [
    "a=list(range(1,10000000))"
   ]
  },
  {
   "cell_type": "code",
   "execution_count": 8,
   "id": "03fd02cc",
   "metadata": {},
   "outputs": [
    {
     "data": {
      "text/plain": [
       "[1, 2, 3, 4, 5, 6, 7, 8, 9]"
      ]
     },
     "execution_count": 8,
     "metadata": {},
     "output_type": "execute_result"
    }
   ],
   "source": [
    "a"
   ]
  },
  {
   "cell_type": "code",
   "execution_count": 15,
   "id": "cd17995d",
   "metadata": {},
   "outputs": [],
   "source": [
    "arr=np.arange(1,10000000)"
   ]
  },
  {
   "cell_type": "code",
   "execution_count": 10,
   "id": "3bd90ca3",
   "metadata": {},
   "outputs": [
    {
     "data": {
      "text/plain": [
       "array([1, 2, 3, 4, 5, 6, 7, 8, 9])"
      ]
     },
     "execution_count": 10,
     "metadata": {},
     "output_type": "execute_result"
    }
   ],
   "source": [
    "arr"
   ]
  },
  {
   "cell_type": "code",
   "execution_count": 11,
   "id": "5b001273",
   "metadata": {},
   "outputs": [],
   "source": [
    "#for checking size \n",
    "import sys"
   ]
  },
  {
   "cell_type": "code",
   "execution_count": 16,
   "id": "86145518",
   "metadata": {},
   "outputs": [
    {
     "data": {
      "text/plain": [
       "80000056"
      ]
     },
     "execution_count": 16,
     "metadata": {},
     "output_type": "execute_result"
    }
   ],
   "source": [
    "sys.getsizeof(a)"
   ]
  },
  {
   "cell_type": "code",
   "execution_count": 17,
   "id": "799ba6cb",
   "metadata": {},
   "outputs": [
    {
     "data": {
      "text/plain": [
       "40000108"
      ]
     },
     "execution_count": 17,
     "metadata": {},
     "output_type": "execute_result"
    }
   ],
   "source": [
    "sys.getsizeof(arr)"
   ]
  },
  {
   "cell_type": "code",
   "execution_count": 18,
   "id": "f8293662",
   "metadata": {},
   "outputs": [
    {
     "name": "stdout",
     "output_type": "stream",
     "text": [
      "CPU times: total: 78.1 ms\n",
      "Wall time: 144 ms\n"
     ]
    },
    {
     "data": {
      "text/plain": [
       "80000056"
      ]
     },
     "execution_count": 18,
     "metadata": {},
     "output_type": "execute_result"
    }
   ],
   "source": [
    "%%time #to get time taken for that paricular range\n",
    "a=list(range(1,10000000))\n",
    "sys.getsizeof(a)"
   ]
  },
  {
   "cell_type": "code",
   "execution_count": 19,
   "id": "d4d3028f",
   "metadata": {},
   "outputs": [
    {
     "name": "stdout",
     "output_type": "stream",
     "text": [
      "CPU times: total: 0 ns\n",
      "Wall time: 11 ms\n"
     ]
    },
    {
     "data": {
      "text/plain": [
       "40000108"
      ]
     },
     "execution_count": 19,
     "metadata": {},
     "output_type": "execute_result"
    }
   ],
   "source": [
    "%%time #to get time taken for that paricular range\n",
    "arr=np.arange(1,10000000)\n",
    "sys.getsizeof(arr)"
   ]
  },
  {
   "cell_type": "markdown",
   "id": "749efe78",
   "metadata": {},
   "source": [
    "here the time taken by the list is more than the compared to the array "
   ]
  },
  {
   "cell_type": "markdown",
   "id": "e2016fbc",
   "metadata": {},
   "source": [
    "# creation of arrays"
   ]
  },
  {
   "cell_type": "markdown",
   "id": "b447e8ae",
   "metadata": {},
   "source": [
    "### From basic data structure"
   ]
  },
  {
   "cell_type": "code",
   "execution_count": 20,
   "id": "94ef73b9",
   "metadata": {},
   "outputs": [],
   "source": [
    "#from tuple\n",
    "values=(1,2,3,4,5,6,7,8)\n",
    "arr=np.array(values)\n"
   ]
  },
  {
   "cell_type": "code",
   "execution_count": 21,
   "id": "bef81997",
   "metadata": {},
   "outputs": [
    {
     "data": {
      "text/plain": [
       "array([1, 2, 3, 4, 5, 6, 7, 8])"
      ]
     },
     "execution_count": 21,
     "metadata": {},
     "output_type": "execute_result"
    }
   ],
   "source": [
    "arr"
   ]
  },
  {
   "cell_type": "code",
   "execution_count": 22,
   "id": "7035f6d4",
   "metadata": {},
   "outputs": [],
   "source": [
    "#from list\n",
    "values=[1,2,3,4,5,6,7,8]\n",
    "arr=np.array(values)\n"
   ]
  },
  {
   "cell_type": "code",
   "execution_count": 23,
   "id": "ae175103",
   "metadata": {},
   "outputs": [
    {
     "data": {
      "text/plain": [
       "array([1, 2, 3, 4, 5, 6, 7, 8])"
      ]
     },
     "execution_count": 23,
     "metadata": {},
     "output_type": "execute_result"
    }
   ],
   "source": [
    "arr"
   ]
  },
  {
   "cell_type": "markdown",
   "id": "c8351c8a",
   "metadata": {},
   "source": [
    "# from zeros"
   ]
  },
  {
   "cell_type": "code",
   "execution_count": 25,
   "id": "d9e0c34e",
   "metadata": {},
   "outputs": [
    {
     "data": {
      "text/plain": [
       "array([[0., 0., 0.],\n",
       "       [0., 0., 0.],\n",
       "       [0., 0., 0.],\n",
       "       [0., 0., 0.]])"
      ]
     },
     "execution_count": 25,
     "metadata": {},
     "output_type": "execute_result"
    }
   ],
   "source": [
    "np.zeros((4,3)) #creating the null array"
   ]
  },
  {
   "cell_type": "code",
   "execution_count": 27,
   "id": "ab603291",
   "metadata": {},
   "outputs": [
    {
     "data": {
      "text/plain": [
       "array([[1., 0., 0., 0.],\n",
       "       [0., 1., 0., 0.],\n",
       "       [0., 0., 1., 0.],\n",
       "       [0., 0., 0., 1.]])"
      ]
     },
     "execution_count": 27,
     "metadata": {},
     "output_type": "execute_result"
    }
   ],
   "source": [
    "np.identity(4)"
   ]
  },
  {
   "cell_type": "markdown",
   "id": "525295da",
   "metadata": {},
   "source": [
    "# from ones"
   ]
  },
  {
   "cell_type": "code",
   "execution_count": 29,
   "id": "881f8e4f",
   "metadata": {},
   "outputs": [],
   "source": [
    "a=np.ones((3,3))"
   ]
  },
  {
   "cell_type": "code",
   "execution_count": 30,
   "id": "32a662ae",
   "metadata": {},
   "outputs": [
    {
     "data": {
      "text/plain": [
       "array([[1., 1., 1.],\n",
       "       [1., 1., 1.],\n",
       "       [1., 1., 1.]])"
      ]
     },
     "execution_count": 30,
     "metadata": {},
     "output_type": "execute_result"
    }
   ],
   "source": [
    "a"
   ]
  },
  {
   "cell_type": "code",
   "execution_count": 31,
   "id": "570dd488",
   "metadata": {},
   "outputs": [
    {
     "data": {
      "text/plain": [
       "dtype('float64')"
      ]
     },
     "execution_count": 31,
     "metadata": {},
     "output_type": "execute_result"
    }
   ],
   "source": [
    "a.dtype"
   ]
  },
  {
   "cell_type": "code",
   "execution_count": 32,
   "id": "e0bcfced",
   "metadata": {},
   "outputs": [
    {
     "data": {
      "text/plain": [
       "numpy.ndarray"
      ]
     },
     "execution_count": 32,
     "metadata": {},
     "output_type": "execute_result"
    }
   ],
   "source": [
    "type(a)"
   ]
  },
  {
   "cell_type": "markdown",
   "id": "f4e4239b",
   "metadata": {},
   "source": [
    "### from a value"
   ]
  },
  {
   "cell_type": "code",
   "execution_count": 37,
   "id": "45a248af",
   "metadata": {},
   "outputs": [],
   "source": [
    "c=np.full((4,4),5) #it is creating the matrix by taking the value and the\n",
    "                  #size of that particual function or otherwise known as the dimension"
   ]
  },
  {
   "cell_type": "code",
   "execution_count": 38,
   "id": "77451f35",
   "metadata": {},
   "outputs": [
    {
     "data": {
      "text/plain": [
       "array([[5, 5, 5, 5],\n",
       "       [5, 5, 5, 5],\n",
       "       [5, 5, 5, 5],\n",
       "       [5, 5, 5, 5]])"
      ]
     },
     "execution_count": 38,
     "metadata": {},
     "output_type": "execute_result"
    }
   ],
   "source": [
    "c"
   ]
  },
  {
   "cell_type": "code",
   "execution_count": 42,
   "id": "830c7649",
   "metadata": {},
   "outputs": [
    {
     "data": {
      "text/plain": [
       "array([3, 3])"
      ]
     },
     "execution_count": 42,
     "metadata": {},
     "output_type": "execute_result"
    }
   ],
   "source": [
    "np.full((2),3)"
   ]
  },
  {
   "cell_type": "markdown",
   "id": "5fe65425",
   "metadata": {},
   "source": [
    "# from arange"
   ]
  },
  {
   "cell_type": "code",
   "execution_count": 43,
   "id": "d68209d4",
   "metadata": {
    "scrolled": true
   },
   "outputs": [
    {
     "data": {
      "text/plain": [
       "array([ 1,  2,  3,  4,  5,  6,  7,  8,  9, 10, 11, 12, 13, 14, 15, 16, 17,\n",
       "       18, 19])"
      ]
     },
     "execution_count": 43,
     "metadata": {},
     "output_type": "execute_result"
    }
   ],
   "source": [
    "np.arange(1,20)"
   ]
  },
  {
   "cell_type": "code",
   "execution_count": 44,
   "id": "b1813ed2",
   "metadata": {},
   "outputs": [
    {
     "data": {
      "text/plain": [
       "array([50, 51, 52, 53, 54, 55, 56, 57, 58, 59, 60, 61, 62, 63, 64, 65, 66,\n",
       "       67, 68, 69, 70, 71, 72, 73, 74, 75, 76, 77, 78, 79, 80, 81, 82, 83,\n",
       "       84, 85, 86, 87, 88, 89, 90, 91, 92, 93, 94, 95, 96, 97, 98, 99])"
      ]
     },
     "execution_count": 44,
     "metadata": {},
     "output_type": "execute_result"
    }
   ],
   "source": [
    "np.arange(50,100)"
   ]
  },
  {
   "cell_type": "markdown",
   "id": "a0b2116b",
   "metadata": {},
   "source": [
    "# from linspace"
   ]
  },
  {
   "cell_type": "code",
   "execution_count": 49,
   "id": "ec1954fb",
   "metadata": {},
   "outputs": [
    {
     "data": {
      "text/plain": [
       "array([10.        , 11.66666667, 13.33333333, 15.        , 16.66666667,\n",
       "       18.33333333, 20.        ])"
      ]
     },
     "execution_count": 49,
     "metadata": {},
     "output_type": "execute_result"
    }
   ],
   "source": [
    "np.linspace(10,20,7) #from one number to the another it consits difference between two numbers is same"
   ]
  },
  {
   "cell_type": "code",
   "execution_count": 50,
   "id": "a2a40f2d",
   "metadata": {},
   "outputs": [
    {
     "data": {
      "text/plain": [
       "array([ 10.        ,  14.73684211,  19.47368421,  24.21052632,\n",
       "        28.94736842,  33.68421053,  38.42105263,  43.15789474,\n",
       "        47.89473684,  52.63157895,  57.36842105,  62.10526316,\n",
       "        66.84210526,  71.57894737,  76.31578947,  81.05263158,\n",
       "        85.78947368,  90.52631579,  95.26315789, 100.        ])"
      ]
     },
     "execution_count": 50,
     "metadata": {},
     "output_type": "execute_result"
    }
   ],
   "source": [
    "np.linspace(10,100,20)"
   ]
  },
  {
   "cell_type": "markdown",
   "id": "20c26a27",
   "metadata": {},
   "source": [
    "# from random"
   ]
  },
  {
   "cell_type": "code",
   "execution_count": 52,
   "id": "7e9755d7",
   "metadata": {},
   "outputs": [
    {
     "data": {
      "text/plain": [
       "array([21, 52, 26, 89, 91])"
      ]
     },
     "execution_count": 52,
     "metadata": {},
     "output_type": "execute_result"
    }
   ],
   "source": [
    "np.random.randint(10,100,5) #from random it is creating the random numbers or the values by taking \n",
    "#how many numbers we want ehere heare 5 is the the number of the data or the numbers we want"
   ]
  },
  {
   "cell_type": "code",
   "execution_count": 53,
   "id": "dd9b9d2a",
   "metadata": {},
   "outputs": [],
   "source": [
    "salaries=np.random.randint(20000,100000,30)"
   ]
  },
  {
   "cell_type": "code",
   "execution_count": 54,
   "id": "3821df1e",
   "metadata": {},
   "outputs": [
    {
     "data": {
      "text/plain": [
       "array([41145, 87938, 79022, 34194, 51762, 29828, 99796, 26179, 51512,\n",
       "       97178, 79103, 21592, 32603, 84757, 56825, 94196, 81525, 78353,\n",
       "       29217, 90549, 79496, 35437, 23958, 69792, 31275, 87460, 62922,\n",
       "       92852, 32676, 39392])"
      ]
     },
     "execution_count": 54,
     "metadata": {},
     "output_type": "execute_result"
    }
   ],
   "source": [
    "salaries"
   ]
  },
  {
   "cell_type": "markdown",
   "id": "5c26c2ea",
   "metadata": {},
   "source": [
    "# Diffrent dimension arrays"
   ]
  },
  {
   "cell_type": "code",
   "execution_count": 64,
   "id": "2be08c1f",
   "metadata": {},
   "outputs": [],
   "source": [
    "a=np.array([[1,2,3,4],[5,6,7,8]])"
   ]
  },
  {
   "cell_type": "code",
   "execution_count": 65,
   "id": "36760714",
   "metadata": {},
   "outputs": [
    {
     "data": {
      "text/plain": [
       "array([[1, 2, 3, 4],\n",
       "       [5, 6, 7, 8]])"
      ]
     },
     "execution_count": 65,
     "metadata": {},
     "output_type": "execute_result"
    }
   ],
   "source": [
    "a"
   ]
  },
  {
   "cell_type": "code",
   "execution_count": 66,
   "id": "7731a07b",
   "metadata": {},
   "outputs": [
    {
     "data": {
      "text/plain": [
       "2"
      ]
     },
     "execution_count": 66,
     "metadata": {},
     "output_type": "execute_result"
    }
   ],
   "source": [
    "a.ndim"
   ]
  },
  {
   "cell_type": "markdown",
   "id": "387074e4",
   "metadata": {},
   "source": [
    "### at the time of creating"
   ]
  },
  {
   "cell_type": "code",
   "execution_count": 68,
   "id": "0abf9f4f",
   "metadata": {},
   "outputs": [],
   "source": [
    "b=np.array([1,2,3,4,5,6],ndmin=2)"
   ]
  },
  {
   "cell_type": "code",
   "execution_count": 69,
   "id": "74b85639",
   "metadata": {},
   "outputs": [
    {
     "data": {
      "text/plain": [
       "array([[1, 2, 3, 4, 5, 6]])"
      ]
     },
     "execution_count": 69,
     "metadata": {},
     "output_type": "execute_result"
    }
   ],
   "source": [
    "b"
   ]
  },
  {
   "cell_type": "code",
   "execution_count": 70,
   "id": "773c15a7",
   "metadata": {},
   "outputs": [
    {
     "data": {
      "text/plain": [
       "2"
      ]
     },
     "execution_count": 70,
     "metadata": {},
     "output_type": "execute_result"
    }
   ],
   "source": [
    "b.ndim"
   ]
  },
  {
   "cell_type": "markdown",
   "id": "7cabf3e2",
   "metadata": {},
   "source": [
    "# After creating"
   ]
  },
  {
   "cell_type": "code",
   "execution_count": 72,
   "id": "26e82021",
   "metadata": {},
   "outputs": [],
   "source": [
    "b=np.array([10,20,30,40,50,60,70,80])"
   ]
  },
  {
   "cell_type": "code",
   "execution_count": 75,
   "id": "1588734b",
   "metadata": {},
   "outputs": [
    {
     "data": {
      "text/plain": [
       "array([[[10, 20],\n",
       "        [30, 40]],\n",
       "\n",
       "       [[50, 60],\n",
       "        [70, 80]]])"
      ]
     },
     "execution_count": 75,
     "metadata": {},
     "output_type": "execute_result"
    }
   ],
   "source": [
    "b.reshape(2,2,2)"
   ]
  },
  {
   "cell_type": "code",
   "execution_count": 77,
   "id": "01aea892",
   "metadata": {},
   "outputs": [
    {
     "data": {
      "text/plain": [
       "array([[[10, 20, 30, 40],\n",
       "        [50, 60, 70, 80]]])"
      ]
     },
     "execution_count": 77,
     "metadata": {},
     "output_type": "execute_result"
    }
   ],
   "source": [
    "np.reshape(np.array([10,20,30,40,50,60,70,80]),(1,2,4))"
   ]
  },
  {
   "cell_type": "markdown",
   "id": "5e62a880",
   "metadata": {},
   "source": [
    "# Attributes of arrays"
   ]
  },
  {
   "cell_type": "code",
   "execution_count": 81,
   "id": "4042e858",
   "metadata": {},
   "outputs": [],
   "source": [
    "d=np.array([10,20,30,40,50,60,70,80])"
   ]
  },
  {
   "cell_type": "code",
   "execution_count": 84,
   "id": "3ba78ef5",
   "metadata": {},
   "outputs": [],
   "source": [
    "e=d.reshape(1,2,4)"
   ]
  },
  {
   "cell_type": "code",
   "execution_count": 85,
   "id": "e3646305",
   "metadata": {},
   "outputs": [
    {
     "data": {
      "text/plain": [
       "3"
      ]
     },
     "execution_count": 85,
     "metadata": {},
     "output_type": "execute_result"
    }
   ],
   "source": [
    "e.ndim #no of dimensions present in the array"
   ]
  },
  {
   "cell_type": "code",
   "execution_count": 86,
   "id": "4f78850f",
   "metadata": {},
   "outputs": [
    {
     "data": {
      "text/plain": [
       "8"
      ]
     },
     "execution_count": 86,
     "metadata": {},
     "output_type": "execute_result"
    }
   ],
   "source": [
    "e.size #no of elements present in it"
   ]
  },
  {
   "cell_type": "code",
   "execution_count": 87,
   "id": "7a98c7bc",
   "metadata": {},
   "outputs": [
    {
     "data": {
      "text/plain": [
       "dtype('int32')"
      ]
     },
     "execution_count": 87,
     "metadata": {},
     "output_type": "execute_result"
    }
   ],
   "source": [
    "e.dtype"
   ]
  },
  {
   "cell_type": "code",
   "execution_count": 88,
   "id": "fe7a3ca4",
   "metadata": {},
   "outputs": [
    {
     "data": {
      "text/plain": [
       "4"
      ]
     },
     "execution_count": 88,
     "metadata": {},
     "output_type": "execute_result"
    }
   ],
   "source": [
    "e.itemsize #returns the memory occupied by the single element"
   ]
  },
  {
   "cell_type": "code",
   "execution_count": 89,
   "id": "7f52d206",
   "metadata": {},
   "outputs": [
    {
     "data": {
      "text/plain": [
       "32"
      ]
     },
     "execution_count": 89,
     "metadata": {},
     "output_type": "execute_result"
    }
   ],
   "source": [
    "e.nbytes #total memory occupied by the array"
   ]
  },
  {
   "cell_type": "markdown",
   "id": "d1b61e1c",
   "metadata": {},
   "source": [
    "# 1. measure of central tendency"
   ]
  },
  {
   "cell_type": "code",
   "execution_count": 6,
   "id": "d07b5211",
   "metadata": {},
   "outputs": [],
   "source": [
    "salaries=np.random.randint(20000,100000,30)"
   ]
  },
  {
   "cell_type": "code",
   "execution_count": 7,
   "id": "51a79431",
   "metadata": {
    "scrolled": true
   },
   "outputs": [
    {
     "data": {
      "text/plain": [
       "array([36347, 93966, 41497, 30323, 97502, 20905, 45949, 92616, 73675,\n",
       "       71753, 78029, 30966, 59357, 70897, 42715, 65809, 75816, 90577,\n",
       "       22080, 37274, 81163, 92896, 62651, 79321, 89592, 28788, 80128,\n",
       "       31340, 89734, 68948])"
      ]
     },
     "execution_count": 7,
     "metadata": {},
     "output_type": "execute_result"
    }
   ],
   "source": [
    "salaries"
   ]
  },
  {
   "cell_type": "code",
   "execution_count": 8,
   "id": "713c344a",
   "metadata": {},
   "outputs": [
    {
     "data": {
      "text/plain": [
       "62753.8"
      ]
     },
     "execution_count": 8,
     "metadata": {},
     "output_type": "execute_result"
    }
   ],
   "source": [
    "#mean\n",
    "np.mean(salaries)"
   ]
  },
  {
   "cell_type": "code",
   "execution_count": 9,
   "id": "bb0501a3",
   "metadata": {},
   "outputs": [
    {
     "data": {
      "text/plain": [
       "69922.5"
      ]
     },
     "execution_count": 9,
     "metadata": {},
     "output_type": "execute_result"
    }
   ],
   "source": [
    "np.median(salaries)"
   ]
  },
  {
   "cell_type": "markdown",
   "id": "64beeb62",
   "metadata": {},
   "source": [
    "# 2. Measure of dispersion"
   ]
  },
  {
   "cell_type": "code",
   "execution_count": 10,
   "id": "6b4c8bac",
   "metadata": {},
   "outputs": [],
   "source": [
    "x=min(salaries)"
   ]
  },
  {
   "cell_type": "code",
   "execution_count": 11,
   "id": "817af6d7",
   "metadata": {},
   "outputs": [],
   "source": [
    "y=max(salaries)"
   ]
  },
  {
   "cell_type": "code",
   "execution_count": 12,
   "id": "6c7244dc",
   "metadata": {},
   "outputs": [
    {
     "data": {
      "text/plain": [
       "76597"
      ]
     },
     "execution_count": 12,
     "metadata": {},
     "output_type": "execute_result"
    }
   ],
   "source": [
    "y-x #range"
   ]
  },
  {
   "cell_type": "code",
   "execution_count": 13,
   "id": "b4da0581",
   "metadata": {},
   "outputs": [
    {
     "data": {
      "text/plain": [
       "598001643.0266666"
      ]
     },
     "execution_count": 13,
     "metadata": {},
     "output_type": "execute_result"
    }
   ],
   "source": [
    "np.var(salaries)"
   ]
  },
  {
   "cell_type": "code",
   "execution_count": 14,
   "id": "58264dc4",
   "metadata": {},
   "outputs": [
    {
     "data": {
      "text/plain": [
       "38329.75"
      ]
     },
     "execution_count": 14,
     "metadata": {},
     "output_type": "execute_result"
    }
   ],
   "source": [
    "np.percentile(salaries,25)"
   ]
  },
  {
   "cell_type": "code",
   "execution_count": 15,
   "id": "18d21aef",
   "metadata": {},
   "outputs": [
    {
     "data": {
      "text/plain": [
       "69922.5"
      ]
     },
     "execution_count": 15,
     "metadata": {},
     "output_type": "execute_result"
    }
   ],
   "source": [
    "np.percentile(salaries,50)"
   ]
  },
  {
   "cell_type": "code",
   "execution_count": 16,
   "id": "8eb7a619",
   "metadata": {},
   "outputs": [
    {
     "data": {
      "text/plain": [
       "80904.25"
      ]
     },
     "execution_count": 16,
     "metadata": {},
     "output_type": "execute_result"
    }
   ],
   "source": [
    "np.percentile(salaries,75)"
   ]
  },
  {
   "cell_type": "code",
   "execution_count": 17,
   "id": "c889f36c",
   "metadata": {},
   "outputs": [
    {
     "data": {
      "text/plain": [
       "97502.0"
      ]
     },
     "execution_count": 17,
     "metadata": {},
     "output_type": "execute_result"
    }
   ],
   "source": [
    "np.percentile(salaries,100)"
   ]
  },
  {
   "cell_type": "code",
   "execution_count": 18,
   "id": "428ed998",
   "metadata": {},
   "outputs": [
    {
     "data": {
      "text/plain": [
       "97502"
      ]
     },
     "execution_count": 18,
     "metadata": {},
     "output_type": "execute_result"
    }
   ],
   "source": [
    "np.max(salaries)"
   ]
  },
  {
   "cell_type": "code",
   "execution_count": 19,
   "id": "998725de",
   "metadata": {},
   "outputs": [
    {
     "data": {
      "text/plain": [
       "20905"
      ]
     },
     "execution_count": 19,
     "metadata": {},
     "output_type": "execute_result"
    }
   ],
   "source": [
    "np.min(salaries)"
   ]
  },
  {
   "cell_type": "code",
   "execution_count": 20,
   "id": "aec58875",
   "metadata": {},
   "outputs": [
    {
     "data": {
      "text/plain": [
       "24454.072115430317"
      ]
     },
     "execution_count": 20,
     "metadata": {},
     "output_type": "execute_result"
    }
   ],
   "source": [
    "np.std(salaries)"
   ]
  },
  {
   "cell_type": "markdown",
   "id": "ca9dd9a1",
   "metadata": {},
   "source": [
    "# Indexing and Slicing"
   ]
  },
  {
   "cell_type": "code",
   "execution_count": 23,
   "id": "b65e9e06",
   "metadata": {},
   "outputs": [],
   "source": [
    "arr=np.array([10,15,14,132,])"
   ]
  },
  {
   "cell_type": "code",
   "execution_count": 24,
   "id": "f347633a",
   "metadata": {},
   "outputs": [],
   "source": [
    "salaries=np.random.randint(20000,100000,30)"
   ]
  },
  {
   "cell_type": "code",
   "execution_count": 25,
   "id": "a22433dc",
   "metadata": {},
   "outputs": [
    {
     "data": {
      "text/plain": [
       "array([30692, 82691, 53916, 87284, 71053, 54377, 57644, 48920, 63521,\n",
       "       52727, 87420, 39954, 59987, 77114, 91167, 35766, 55649, 40118,\n",
       "       70306, 85962, 34077, 84505, 68871, 26519, 72440, 79768, 43547,\n",
       "       22359, 50069, 86497])"
      ]
     },
     "execution_count": 25,
     "metadata": {},
     "output_type": "execute_result"
    }
   ],
   "source": [
    "salaries"
   ]
  },
  {
   "cell_type": "code",
   "execution_count": 44,
   "id": "eeb2b3d0",
   "metadata": {},
   "outputs": [],
   "source": [
    "sal=salaries.reshape(5,6)"
   ]
  },
  {
   "cell_type": "code",
   "execution_count": 45,
   "id": "1d5bb56f",
   "metadata": {},
   "outputs": [
    {
     "data": {
      "text/plain": [
       "array([[30692, 82691, 53916, 87284, 71053, 54377],\n",
       "       [57644, 48920, 63521, 52727, 87420, 39954],\n",
       "       [59987, 77114, 91167, 35766, 55649, 40118],\n",
       "       [70306, 85962, 34077, 84505, 68871, 26519],\n",
       "       [72440, 79768, 43547, 22359, 50069, 86497]])"
      ]
     },
     "execution_count": 45,
     "metadata": {},
     "output_type": "execute_result"
    }
   ],
   "source": [
    "sal"
   ]
  },
  {
   "cell_type": "code",
   "execution_count": 46,
   "id": "2c0f3cd8",
   "metadata": {},
   "outputs": [
    {
     "data": {
      "text/plain": [
       "array([30692, 82691, 53916, 87284, 71053, 54377])"
      ]
     },
     "execution_count": 46,
     "metadata": {},
     "output_type": "execute_result"
    }
   ],
   "source": [
    "sal[0]"
   ]
  },
  {
   "cell_type": "code",
   "execution_count": 47,
   "id": "78021e97",
   "metadata": {},
   "outputs": [
    {
     "data": {
      "text/plain": [
       "array([54377, 39954, 40118, 26519, 86497])"
      ]
     },
     "execution_count": 47,
     "metadata": {},
     "output_type": "execute_result"
    }
   ],
   "source": [
    "sal[:,5]"
   ]
  },
  {
   "cell_type": "code",
   "execution_count": 48,
   "id": "b76ae21f",
   "metadata": {},
   "outputs": [
    {
     "data": {
      "text/plain": [
       "array([71053, 87420, 55649, 68871, 50069])"
      ]
     },
     "execution_count": 48,
     "metadata": {},
     "output_type": "execute_result"
    }
   ],
   "source": [
    "sal[:,4]"
   ]
  },
  {
   "cell_type": "code",
   "execution_count": 54,
   "id": "cc796f0c",
   "metadata": {},
   "outputs": [
    {
     "data": {
      "text/plain": [
       "array([[30692, 82691, 53916, 87284],\n",
       "       [57644, 48920, 63521, 52727],\n",
       "       [59987, 77114, 91167, 35766],\n",
       "       [70306, 85962, 34077, 84505]])"
      ]
     },
     "execution_count": 54,
     "metadata": {},
     "output_type": "execute_result"
    }
   ],
   "source": [
    "sal[0:4,0:4]"
   ]
  },
  {
   "cell_type": "code",
   "execution_count": 57,
   "id": "ed828fae",
   "metadata": {},
   "outputs": [
    {
     "data": {
      "text/plain": [
       "array([[82691, 53916],\n",
       "       [48920, 63521]])"
      ]
     },
     "execution_count": 57,
     "metadata": {},
     "output_type": "execute_result"
    }
   ],
   "source": [
    "sal[0:2,1:3]"
   ]
  },
  {
   "cell_type": "code",
   "execution_count": 58,
   "id": "2cdf334a",
   "metadata": {},
   "outputs": [
    {
     "data": {
      "text/plain": [
       "array([[52727, 87420],\n",
       "       [35766, 55649],\n",
       "       [84505, 68871]])"
      ]
     },
     "execution_count": 58,
     "metadata": {},
     "output_type": "execute_result"
    }
   ],
   "source": [
    "sal[1:4,3:5]"
   ]
  },
  {
   "cell_type": "markdown",
   "id": "e625e23a",
   "metadata": {},
   "source": [
    "# Mathmatical Operations"
   ]
  },
  {
   "cell_type": "code",
   "execution_count": 59,
   "id": "a25a201e",
   "metadata": {},
   "outputs": [
    {
     "data": {
      "text/plain": [
       "array([[ 61384, 165382, 107832, 174568, 142106, 108754],\n",
       "       [115288,  97840, 127042, 105454, 174840,  79908],\n",
       "       [119974, 154228, 182334,  71532, 111298,  80236],\n",
       "       [140612, 171924,  68154, 169010, 137742,  53038],\n",
       "       [144880, 159536,  87094,  44718, 100138, 172994]])"
      ]
     },
     "execution_count": 59,
     "metadata": {},
     "output_type": "execute_result"
    }
   ],
   "source": [
    "sal+sal"
   ]
  },
  {
   "cell_type": "code",
   "execution_count": 65,
   "id": "cb298ba1",
   "metadata": {},
   "outputs": [
    {
     "data": {
      "text/plain": [
       "array([[ 40692,  92691,  63916,  97284,  81053,  64377],\n",
       "       [ 67644,  58920,  73521,  62727,  97420,  49954],\n",
       "       [ 69987,  87114, 101167,  45766,  65649,  50118],\n",
       "       [ 80306,  95962,  44077,  94505,  78871,  36519],\n",
       "       [ 82440,  89768,  53547,  32359,  60069,  96497]])"
      ]
     },
     "execution_count": 65,
     "metadata": {},
     "output_type": "execute_result"
    }
   ],
   "source": [
    "sal+10000"
   ]
  },
  {
   "cell_type": "code",
   "execution_count": 66,
   "id": "f7434acc",
   "metadata": {},
   "outputs": [
    {
     "data": {
      "text/plain": [
       "array([[20692, 72691, 43916, 77284, 61053, 44377],\n",
       "       [47644, 38920, 53521, 42727, 77420, 29954],\n",
       "       [49987, 67114, 81167, 25766, 45649, 30118],\n",
       "       [60306, 75962, 24077, 74505, 58871, 16519],\n",
       "       [62440, 69768, 33547, 12359, 40069, 76497]])"
      ]
     },
     "execution_count": 66,
     "metadata": {},
     "output_type": "execute_result"
    }
   ],
   "source": [
    "sal-10000"
   ]
  },
  {
   "cell_type": "code",
   "execution_count": 67,
   "id": "cdc44c4e",
   "metadata": {},
   "outputs": [
    {
     "data": {
      "text/plain": [
       "array([[ 61384, 165382, 107832, 174568, 142106, 108754],\n",
       "       [115288,  97840, 127042, 105454, 174840,  79908],\n",
       "       [119974, 154228, 182334,  71532, 111298,  80236],\n",
       "       [140612, 171924,  68154, 169010, 137742,  53038],\n",
       "       [144880, 159536,  87094,  44718, 100138, 172994]])"
      ]
     },
     "execution_count": 67,
     "metadata": {},
     "output_type": "execute_result"
    }
   ],
   "source": [
    "sal*2"
   ]
  },
  {
   "cell_type": "code",
   "execution_count": 68,
   "id": "41a9b0fd",
   "metadata": {},
   "outputs": [
    {
     "data": {
      "text/plain": [
       "array([[False,  True,  True,  True,  True,  True],\n",
       "       [ True, False,  True,  True,  True, False],\n",
       "       [ True,  True,  True, False,  True, False],\n",
       "       [ True,  True, False,  True,  True, False],\n",
       "       [ True,  True, False, False,  True,  True]])"
      ]
     },
     "execution_count": 68,
     "metadata": {},
     "output_type": "execute_result"
    }
   ],
   "source": [
    "sal>50000"
   ]
  },
  {
   "cell_type": "code",
   "execution_count": 69,
   "id": "f8989540",
   "metadata": {},
   "outputs": [
    {
     "data": {
      "text/plain": [
       "array([82691, 53916, 87284, 71053, 54377, 57644, 63521, 52727, 87420,\n",
       "       59987, 77114, 91167, 55649, 70306, 85962, 84505, 68871, 72440,\n",
       "       79768, 50069, 86497])"
      ]
     },
     "execution_count": 69,
     "metadata": {},
     "output_type": "execute_result"
    }
   ],
   "source": [
    "sal[sal>50000]"
   ]
  },
  {
   "cell_type": "code",
   "execution_count": 71,
   "id": "6ee67a06",
   "metadata": {},
   "outputs": [
    {
     "data": {
      "text/plain": [
       "array([30692, 48920, 39954, 35766, 40118, 34077, 26519, 43547, 22359])"
      ]
     },
     "execution_count": 71,
     "metadata": {},
     "output_type": "execute_result"
    }
   ],
   "source": [
    "sal[sal<50000]"
   ]
  },
  {
   "cell_type": "code",
   "execution_count": 76,
   "id": "c10df124",
   "metadata": {},
   "outputs": [
    {
     "data": {
      "text/plain": [
       "array([48920, 40118, 43547])"
      ]
     },
     "execution_count": 76,
     "metadata": {},
     "output_type": "execute_result"
    }
   ],
   "source": [
    "sal[(sal>40000) & (sal <50000)]"
   ]
  },
  {
   "cell_type": "markdown",
   "id": "0ca5dc83",
   "metadata": {},
   "source": [
    "# Numpy Data Types and Type casting"
   ]
  },
  {
   "cell_type": "code",
   "execution_count": 78,
   "id": "2c2ee798",
   "metadata": {},
   "outputs": [
    {
     "data": {
      "text/plain": [
       "dtype('int32')"
      ]
     },
     "execution_count": 78,
     "metadata": {},
     "output_type": "execute_result"
    }
   ],
   "source": [
    "sal.dtype"
   ]
  },
  {
   "cell_type": "code",
   "execution_count": 79,
   "id": "b66b900d",
   "metadata": {},
   "outputs": [
    {
     "data": {
      "text/plain": [
       "iinfo(min=-128, max=127, dtype=int8)"
      ]
     },
     "execution_count": 79,
     "metadata": {},
     "output_type": "execute_result"
    }
   ],
   "source": [
    "np.iinfo(\"int8\")"
   ]
  },
  {
   "cell_type": "code",
   "execution_count": 80,
   "id": "6ff63093",
   "metadata": {},
   "outputs": [
    {
     "data": {
      "text/plain": [
       "iinfo(min=-32768, max=32767, dtype=int16)"
      ]
     },
     "execution_count": 80,
     "metadata": {},
     "output_type": "execute_result"
    }
   ],
   "source": [
    "np.iinfo(\"int16\")"
   ]
  },
  {
   "cell_type": "code",
   "execution_count": 81,
   "id": "21909f06",
   "metadata": {},
   "outputs": [
    {
     "data": {
      "text/plain": [
       "iinfo(min=-2147483648, max=2147483647, dtype=int32)"
      ]
     },
     "execution_count": 81,
     "metadata": {},
     "output_type": "execute_result"
    }
   ],
   "source": [
    "np.iinfo(\"int32\")"
   ]
  },
  {
   "cell_type": "code",
   "execution_count": 85,
   "id": "076adcdb",
   "metadata": {},
   "outputs": [
    {
     "data": {
      "text/plain": [
       "iinfo(min=0, max=4294967295, dtype=uint32)"
      ]
     },
     "execution_count": 85,
     "metadata": {},
     "output_type": "execute_result"
    }
   ],
   "source": [
    "np.iinfo(\"uint\")"
   ]
  },
  {
   "cell_type": "code",
   "execution_count": 86,
   "id": "0767ee68",
   "metadata": {},
   "outputs": [
    {
     "data": {
      "text/plain": [
       "iinfo(min=0, max=255, dtype=uint8)"
      ]
     },
     "execution_count": 86,
     "metadata": {},
     "output_type": "execute_result"
    }
   ],
   "source": [
    "np.iinfo(\"uint8\")"
   ]
  },
  {
   "cell_type": "code",
   "execution_count": 92,
   "id": "4aa8376b",
   "metadata": {},
   "outputs": [
    {
     "data": {
      "text/plain": [
       "finfo(resolution=0.001, min=-6.55040e+04, max=6.55040e+04, dtype=float16)"
      ]
     },
     "execution_count": 92,
     "metadata": {},
     "output_type": "execute_result"
    }
   ],
   "source": [
    "np.finfo(\"float16\")"
   ]
  },
  {
   "cell_type": "code",
   "execution_count": 100,
   "id": "e58bfa89",
   "metadata": {},
   "outputs": [],
   "source": [
    "import random"
   ]
  },
  {
   "cell_type": "code",
   "execution_count": 101,
   "id": "0357a09f",
   "metadata": {},
   "outputs": [],
   "source": [
    "ages=np.random.randint(2,100,20)"
   ]
  },
  {
   "cell_type": "code",
   "execution_count": 102,
   "id": "6b3bb279",
   "metadata": {},
   "outputs": [
    {
     "data": {
      "text/plain": [
       "array([ 6, 66, 68, 95, 29, 42, 73, 56, 55, 91, 48, 25, 83, 27, 39, 52, 58,\n",
       "       20, 73, 83])"
      ]
     },
     "execution_count": 102,
     "metadata": {},
     "output_type": "execute_result"
    }
   ],
   "source": [
    "ages"
   ]
  },
  {
   "cell_type": "code",
   "execution_count": 104,
   "id": "b4a97c7a",
   "metadata": {},
   "outputs": [
    {
     "data": {
      "text/plain": [
       "dtype('int32')"
      ]
     },
     "execution_count": 104,
     "metadata": {},
     "output_type": "execute_result"
    }
   ],
   "source": [
    "ages.dtype"
   ]
  },
  {
   "cell_type": "code",
   "execution_count": 105,
   "id": "5d6b3e7f",
   "metadata": {},
   "outputs": [
    {
     "data": {
      "text/plain": [
       "80"
      ]
     },
     "execution_count": 105,
     "metadata": {},
     "output_type": "execute_result"
    }
   ],
   "source": [
    "ages.nbytes"
   ]
  },
  {
   "cell_type": "code",
   "execution_count": 108,
   "id": "e3e8119b",
   "metadata": {},
   "outputs": [],
   "source": [
    "age=ages.astype(\"int16\")"
   ]
  },
  {
   "cell_type": "code",
   "execution_count": 109,
   "id": "49525797",
   "metadata": {},
   "outputs": [
    {
     "data": {
      "text/plain": [
       "dtype('int16')"
      ]
     },
     "execution_count": 109,
     "metadata": {},
     "output_type": "execute_result"
    }
   ],
   "source": [
    "age.dtype"
   ]
  },
  {
   "cell_type": "code",
   "execution_count": 110,
   "id": "4563e7a7",
   "metadata": {},
   "outputs": [],
   "source": [
    "a=age.astype(\"int8\")"
   ]
  },
  {
   "cell_type": "code",
   "execution_count": 111,
   "id": "0f700913",
   "metadata": {},
   "outputs": [
    {
     "data": {
      "text/plain": [
       "dtype('int8')"
      ]
     },
     "execution_count": 111,
     "metadata": {},
     "output_type": "execute_result"
    }
   ],
   "source": [
    "a.dtype"
   ]
  },
  {
   "cell_type": "code",
   "execution_count": 112,
   "id": "5c6f26e6",
   "metadata": {},
   "outputs": [
    {
     "data": {
      "text/plain": [
       "array([ 6, 66, 68, 95, 29, 42, 73, 56, 55, 91, 48, 25, 83, 27, 39, 52, 58,\n",
       "       20, 73, 83], dtype=int8)"
      ]
     },
     "execution_count": 112,
     "metadata": {},
     "output_type": "execute_result"
    }
   ],
   "source": [
    "a"
   ]
  },
  {
   "cell_type": "code",
   "execution_count": 113,
   "id": "fe741ab1",
   "metadata": {},
   "outputs": [
    {
     "name": "stderr",
     "output_type": "stream",
     "text": [
      "C:\\Users\\Ganji Bhaskar\\AppData\\Local\\Temp\\ipykernel_20008\\3706819795.py:1: DeprecationWarning: NumPy will stop allowing conversion of out-of-bound Python integers to integer arrays.  The conversion of 131 to int8 will fail in the future.\n",
      "For the old behavior, usually:\n",
      "    np.array(value).astype(dtype)\n",
      "will give the desired result (the cast overflows).\n",
      "  np.array([131,2,3,4,5,98,120,70],dtype=\"int8\")\n"
     ]
    },
    {
     "data": {
      "text/plain": [
       "array([-125,    2,    3,    4,    5,   98,  120,   70], dtype=int8)"
      ]
     },
     "execution_count": 113,
     "metadata": {},
     "output_type": "execute_result"
    }
   ],
   "source": [
    "np.array([131,2,3,4,5,98,120,70],dtype=\"int8\")"
   ]
  },
  {
   "cell_type": "raw",
   "id": "3e2c15f7",
   "metadata": {},
   "source": [
    "whenever we given array is more than the range of the data type memory then it overflows"
   ]
  },
  {
   "cell_type": "code",
   "execution_count": 115,
   "id": "726c1aab",
   "metadata": {},
   "outputs": [],
   "source": [
    "ages[2]=45"
   ]
  },
  {
   "cell_type": "code",
   "execution_count": 116,
   "id": "510df74b",
   "metadata": {},
   "outputs": [
    {
     "data": {
      "text/plain": [
       "array([ 6, 66, 45, 95, 29, 42, 73, 56, 55, 91, 48, 25, 83, 27, 39, 52, 58,\n",
       "       20, 73, 83])"
      ]
     },
     "execution_count": 116,
     "metadata": {},
     "output_type": "execute_result"
    }
   ],
   "source": [
    "ages"
   ]
  },
  {
   "cell_type": "code",
   "execution_count": 117,
   "id": "39ba9ac1",
   "metadata": {},
   "outputs": [],
   "source": [
    "rating=np.array([1,2,3,4600,4,5,])"
   ]
  },
  {
   "cell_type": "code",
   "execution_count": 119,
   "id": "d1b686c1",
   "metadata": {},
   "outputs": [],
   "source": [
    "q1=np.quantile(rating,0.25)\n",
    "q3=np.quantile(rating,0.75)\n",
    "IQR=q3-q1\n",
    "lower=q1-(1.5*IQR)\n",
    "upper=q3+(1.5*IQR)"
   ]
  },
  {
   "cell_type": "code",
   "execution_count": 120,
   "id": "1f97e620",
   "metadata": {},
   "outputs": [
    {
     "data": {
      "text/plain": [
       "2.25"
      ]
     },
     "execution_count": 120,
     "metadata": {},
     "output_type": "execute_result"
    }
   ],
   "source": [
    "q1"
   ]
  },
  {
   "cell_type": "code",
   "execution_count": 121,
   "id": "e945c6eb",
   "metadata": {},
   "outputs": [
    {
     "data": {
      "text/plain": [
       "4.75"
      ]
     },
     "execution_count": 121,
     "metadata": {},
     "output_type": "execute_result"
    }
   ],
   "source": [
    "q3"
   ]
  },
  {
   "cell_type": "code",
   "execution_count": 122,
   "id": "56504c2f",
   "metadata": {},
   "outputs": [
    {
     "data": {
      "text/plain": [
       "2.5"
      ]
     },
     "execution_count": 122,
     "metadata": {},
     "output_type": "execute_result"
    }
   ],
   "source": [
    "IQR"
   ]
  },
  {
   "cell_type": "code",
   "execution_count": 123,
   "id": "95f9165f",
   "metadata": {},
   "outputs": [
    {
     "data": {
      "text/plain": [
       "-1.5"
      ]
     },
     "execution_count": 123,
     "metadata": {},
     "output_type": "execute_result"
    }
   ],
   "source": [
    "lower"
   ]
  },
  {
   "cell_type": "code",
   "execution_count": 124,
   "id": "b5a2eae8",
   "metadata": {},
   "outputs": [
    {
     "data": {
      "text/plain": [
       "8.5"
      ]
     },
     "execution_count": 124,
     "metadata": {},
     "output_type": "execute_result"
    }
   ],
   "source": [
    "upper"
   ]
  },
  {
   "cell_type": "code",
   "execution_count": 125,
   "id": "6f541b2c",
   "metadata": {},
   "outputs": [
    {
     "data": {
      "text/plain": [
       "array([4600])"
      ]
     },
     "execution_count": 125,
     "metadata": {},
     "output_type": "execute_result"
    }
   ],
   "source": [
    "rating[(rating<lower) | (rating>upper)]"
   ]
  },
  {
   "cell_type": "markdown",
   "id": "eb687822",
   "metadata": {},
   "source": [
    "# Replacing the values(np.where())"
   ]
  },
  {
   "cell_type": "code",
   "execution_count": 126,
   "id": "4d5e5c24",
   "metadata": {},
   "outputs": [
    {
     "data": {
      "text/plain": [
       "array([   1,    2,    3, 4600,    4,    5])"
      ]
     },
     "execution_count": 126,
     "metadata": {},
     "output_type": "execute_result"
    }
   ],
   "source": [
    "rating"
   ]
  },
  {
   "cell_type": "code",
   "execution_count": 131,
   "id": "b32ba655",
   "metadata": {},
   "outputs": [],
   "source": [
    "cond=(rating<lower) | (rating>upper)"
   ]
  },
  {
   "cell_type": "markdown",
   "id": "65985c4b",
   "metadata": {},
   "source": [
    "#### np.where(condition,True_value,False_value)"
   ]
  },
  {
   "cell_type": "code",
   "execution_count": 132,
   "id": "7dfac2b8",
   "metadata": {},
   "outputs": [
    {
     "data": {
      "text/plain": [
       "array([1, 2, 3, 3, 4, 5])"
      ]
     },
     "execution_count": 132,
     "metadata": {},
     "output_type": "execute_result"
    }
   ],
   "source": [
    "np.where(cond,3,rating) # where condition is using to replace the value with some particular number \n",
    "#which is in the rang here rating is keeping the remaing values as same"
   ]
  },
  {
   "cell_type": "code",
   "execution_count": 137,
   "id": "587a1820",
   "metadata": {},
   "outputs": [],
   "source": [
    "a=np.random.randint(10000,50000,30)"
   ]
  },
  {
   "cell_type": "code",
   "execution_count": 138,
   "id": "22df5860",
   "metadata": {},
   "outputs": [
    {
     "data": {
      "text/plain": [
       "array([19318, 17936, 30553, 29399, 34896, 13926, 39779, 43220, 44950,\n",
       "       32006, 40822, 34735, 14826, 14038, 14188, 10936, 14620, 15257,\n",
       "       35671, 45656, 23641, 34369, 21754, 40879, 10226, 47556, 18182,\n",
       "       47572, 18981, 47438])"
      ]
     },
     "execution_count": 138,
     "metadata": {},
     "output_type": "execute_result"
    }
   ],
   "source": [
    "a"
   ]
  },
  {
   "cell_type": "code",
   "execution_count": 139,
   "id": "413e6519",
   "metadata": {},
   "outputs": [],
   "source": [
    "cond=a<50000"
   ]
  },
  {
   "cell_type": "code",
   "execution_count": 140,
   "id": "acebf3e1",
   "metadata": {},
   "outputs": [
    {
     "data": {
      "text/plain": [
       "array([24318, 22936, 35553, 34399, 39896, 18926, 44779, 48220, 49950,\n",
       "       37006, 45822, 39735, 19826, 19038, 19188, 15936, 19620, 20257,\n",
       "       40671, 50656, 28641, 39369, 26754, 45879, 15226, 52556, 23182,\n",
       "       52572, 23981, 52438])"
      ]
     },
     "execution_count": 140,
     "metadata": {},
     "output_type": "execute_result"
    }
   ],
   "source": [
    "np.where(cond,a+5000,a)"
   ]
  },
  {
   "cell_type": "markdown",
   "id": "853685b9",
   "metadata": {},
   "source": [
    "# constants"
   ]
  },
  {
   "cell_type": "code",
   "execution_count": 141,
   "id": "1a94c14b",
   "metadata": {},
   "outputs": [
    {
     "data": {
      "text/plain": [
       "3.141592653589793"
      ]
     },
     "execution_count": 141,
     "metadata": {},
     "output_type": "execute_result"
    }
   ],
   "source": [
    "np.pi"
   ]
  },
  {
   "cell_type": "code",
   "execution_count": 142,
   "id": "1ab9a9e3",
   "metadata": {},
   "outputs": [
    {
     "data": {
      "text/plain": [
       "2.718281828459045"
      ]
     },
     "execution_count": 142,
     "metadata": {},
     "output_type": "execute_result"
    }
   ],
   "source": [
    "np.e"
   ]
  },
  {
   "cell_type": "code",
   "execution_count": 143,
   "id": "1ad4c5e6",
   "metadata": {},
   "outputs": [
    {
     "data": {
      "text/plain": [
       "nan"
      ]
     },
     "execution_count": 143,
     "metadata": {},
     "output_type": "execute_result"
    }
   ],
   "source": [
    "np.nan"
   ]
  },
  {
   "cell_type": "code",
   "execution_count": 144,
   "id": "c86892ac",
   "metadata": {},
   "outputs": [
    {
     "data": {
      "text/plain": [
       "inf"
      ]
     },
     "execution_count": 144,
     "metadata": {},
     "output_type": "execute_result"
    }
   ],
   "source": [
    "np.inf"
   ]
  },
  {
   "cell_type": "code",
   "execution_count": 145,
   "id": "1936903c",
   "metadata": {},
   "outputs": [
    {
     "name": "stderr",
     "output_type": "stream",
     "text": [
      "C:\\Users\\Ganji Bhaskar\\AppData\\Local\\Temp\\ipykernel_20008\\2456871482.py:1: RuntimeWarning: divide by zero encountered in divide\n",
      "  np.arange(1,10)/0\n"
     ]
    },
    {
     "data": {
      "text/plain": [
       "array([inf, inf, inf, inf, inf, inf, inf, inf, inf])"
      ]
     },
     "execution_count": 145,
     "metadata": {},
     "output_type": "execute_result"
    }
   ],
   "source": [
    "np.arange(1,10)/0"
   ]
  },
  {
   "cell_type": "code",
   "execution_count": 10,
   "id": "e90c1e9f",
   "metadata": {},
   "outputs": [],
   "source": [
    "b=np.random.randint(1,10,9)"
   ]
  },
  {
   "cell_type": "code",
   "execution_count": 11,
   "id": "6df900b0",
   "metadata": {},
   "outputs": [
    {
     "data": {
      "text/plain": [
       "array([5, 4, 8, 4, 8, 1, 1, 1, 8])"
      ]
     },
     "execution_count": 11,
     "metadata": {},
     "output_type": "execute_result"
    }
   ],
   "source": [
    "b"
   ]
  },
  {
   "cell_type": "code",
   "execution_count": 12,
   "id": "2df43b57",
   "metadata": {},
   "outputs": [
    {
     "data": {
      "text/plain": [
       "(9,)"
      ]
     },
     "execution_count": 12,
     "metadata": {},
     "output_type": "execute_result"
    }
   ],
   "source": [
    "b.shape"
   ]
  },
  {
   "cell_type": "code",
   "execution_count": 13,
   "id": "295ff040",
   "metadata": {},
   "outputs": [],
   "source": [
    "q1=np.quantile(b,0.25)"
   ]
  },
  {
   "cell_type": "code",
   "execution_count": 14,
   "id": "bbc63be3",
   "metadata": {},
   "outputs": [
    {
     "data": {
      "text/plain": [
       "1.0"
      ]
     },
     "execution_count": 14,
     "metadata": {},
     "output_type": "execute_result"
    }
   ],
   "source": [
    "q1"
   ]
  },
  {
   "cell_type": "code",
   "execution_count": 15,
   "id": "eb03d24c",
   "metadata": {},
   "outputs": [],
   "source": [
    "q3=np.quantile(b,0.75)"
   ]
  },
  {
   "cell_type": "code",
   "execution_count": 16,
   "id": "5db616c2",
   "metadata": {},
   "outputs": [
    {
     "data": {
      "text/plain": [
       "8.0"
      ]
     },
     "execution_count": 16,
     "metadata": {},
     "output_type": "execute_result"
    }
   ],
   "source": [
    "q3"
   ]
  },
  {
   "cell_type": "code",
   "execution_count": 17,
   "id": "deca8af7",
   "metadata": {},
   "outputs": [],
   "source": [
    "IQR=q3-q1"
   ]
  },
  {
   "cell_type": "code",
   "execution_count": 18,
   "id": "1370217a",
   "metadata": {},
   "outputs": [
    {
     "data": {
      "text/plain": [
       "7.0"
      ]
     },
     "execution_count": 18,
     "metadata": {},
     "output_type": "execute_result"
    }
   ],
   "source": [
    "IQR"
   ]
  },
  {
   "cell_type": "code",
   "execution_count": 19,
   "id": "4d0d7433",
   "metadata": {},
   "outputs": [],
   "source": [
    "lower=q1-(1.5*IQR)"
   ]
  },
  {
   "cell_type": "code",
   "execution_count": 20,
   "id": "a9fc4513",
   "metadata": {
    "scrolled": true
   },
   "outputs": [
    {
     "data": {
      "text/plain": [
       "-9.5"
      ]
     },
     "execution_count": 20,
     "metadata": {},
     "output_type": "execute_result"
    }
   ],
   "source": [
    "lower"
   ]
  },
  {
   "cell_type": "code",
   "execution_count": 24,
   "id": "30486338",
   "metadata": {},
   "outputs": [],
   "source": [
    "upper=q3+(1.5*IQR)"
   ]
  },
  {
   "cell_type": "code",
   "execution_count": 25,
   "id": "76367af8",
   "metadata": {},
   "outputs": [
    {
     "data": {
      "text/plain": [
       "18.5"
      ]
     },
     "execution_count": 25,
     "metadata": {},
     "output_type": "execute_result"
    }
   ],
   "source": [
    "upper"
   ]
  },
  {
   "cell_type": "code",
   "execution_count": 28,
   "id": "0c449c00",
   "metadata": {},
   "outputs": [
    {
     "data": {
      "text/plain": [
       "array([], dtype=int32)"
      ]
     },
     "execution_count": 28,
     "metadata": {},
     "output_type": "execute_result"
    }
   ],
   "source": [
    "b[(b<lower) | (b >upper)]"
   ]
  },
  {
   "cell_type": "code",
   "execution_count": 37,
   "id": "565c5605",
   "metadata": {},
   "outputs": [],
   "source": [
    "c=np.array([1,2,3,4,200])"
   ]
  },
  {
   "cell_type": "code",
   "execution_count": 38,
   "id": "e12f861b",
   "metadata": {},
   "outputs": [
    {
     "data": {
      "text/plain": [
       "array([  1,   2,   3,   4, 200])"
      ]
     },
     "execution_count": 38,
     "metadata": {},
     "output_type": "execute_result"
    }
   ],
   "source": [
    "c"
   ]
  },
  {
   "cell_type": "code",
   "execution_count": 39,
   "id": "5cecc681",
   "metadata": {},
   "outputs": [
    {
     "data": {
      "text/plain": [
       "(5,)"
      ]
     },
     "execution_count": 39,
     "metadata": {},
     "output_type": "execute_result"
    }
   ],
   "source": [
    "c.shape"
   ]
  },
  {
   "cell_type": "code",
   "execution_count": 41,
   "id": "1e5bb131",
   "metadata": {},
   "outputs": [],
   "source": [
    "q1=np.quantile(c,0.25)"
   ]
  },
  {
   "cell_type": "code",
   "execution_count": 42,
   "id": "3444df98",
   "metadata": {},
   "outputs": [],
   "source": [
    "q3=np.quantile(c,0.75)"
   ]
  },
  {
   "cell_type": "code",
   "execution_count": 43,
   "id": "3b689017",
   "metadata": {},
   "outputs": [],
   "source": [
    "IQr=q3-q1"
   ]
  },
  {
   "cell_type": "code",
   "execution_count": 44,
   "id": "3f49effb",
   "metadata": {},
   "outputs": [],
   "source": [
    "lower=q1-(1.5*IQr)"
   ]
  },
  {
   "cell_type": "code",
   "execution_count": 45,
   "id": "ed0cb03a",
   "metadata": {},
   "outputs": [],
   "source": [
    "upper=q3+(1.5*IQr)"
   ]
  },
  {
   "cell_type": "code",
   "execution_count": 46,
   "id": "9627dc77",
   "metadata": {},
   "outputs": [
    {
     "data": {
      "text/plain": [
       "2.0"
      ]
     },
     "execution_count": 46,
     "metadata": {},
     "output_type": "execute_result"
    }
   ],
   "source": [
    "q1"
   ]
  },
  {
   "cell_type": "code",
   "execution_count": 47,
   "id": "f5631ada",
   "metadata": {},
   "outputs": [
    {
     "data": {
      "text/plain": [
       "4.0"
      ]
     },
     "execution_count": 47,
     "metadata": {},
     "output_type": "execute_result"
    }
   ],
   "source": [
    "q3"
   ]
  },
  {
   "cell_type": "code",
   "execution_count": 48,
   "id": "c4451986",
   "metadata": {},
   "outputs": [
    {
     "data": {
      "text/plain": [
       "2.0"
      ]
     },
     "execution_count": 48,
     "metadata": {},
     "output_type": "execute_result"
    }
   ],
   "source": [
    "IQr"
   ]
  },
  {
   "cell_type": "code",
   "execution_count": 49,
   "id": "bd91a8c1",
   "metadata": {},
   "outputs": [
    {
     "data": {
      "text/plain": [
       "-1.0"
      ]
     },
     "execution_count": 49,
     "metadata": {},
     "output_type": "execute_result"
    }
   ],
   "source": [
    "lower"
   ]
  },
  {
   "cell_type": "code",
   "execution_count": 50,
   "id": "ab7e120e",
   "metadata": {},
   "outputs": [
    {
     "data": {
      "text/plain": [
       "7.0"
      ]
     },
     "execution_count": 50,
     "metadata": {},
     "output_type": "execute_result"
    }
   ],
   "source": [
    "upper"
   ]
  },
  {
   "cell_type": "code",
   "execution_count": 51,
   "id": "f441278f",
   "metadata": {},
   "outputs": [
    {
     "data": {
      "text/plain": [
       "array([200])"
      ]
     },
     "execution_count": 51,
     "metadata": {},
     "output_type": "execute_result"
    }
   ],
   "source": [
    "c[(c<lower) | (c >upper)]"
   ]
  },
  {
   "cell_type": "code",
   "execution_count": 52,
   "id": "85f66bec",
   "metadata": {},
   "outputs": [
    {
     "data": {
      "text/plain": [
       "array([False, False, False, False,  True])"
      ]
     },
     "execution_count": 52,
     "metadata": {},
     "output_type": "execute_result"
    }
   ],
   "source": [
    "(c<lower) | (c >upper)"
   ]
  },
  {
   "cell_type": "code",
   "execution_count": 53,
   "id": "ed6771a8",
   "metadata": {},
   "outputs": [
    {
     "data": {
      "text/plain": [
       "array([  1,   2,   3,   4, 200])"
      ]
     },
     "execution_count": 53,
     "metadata": {},
     "output_type": "execute_result"
    }
   ],
   "source": [
    "c"
   ]
  },
  {
   "cell_type": "code",
   "execution_count": 2,
   "id": "20358c48",
   "metadata": {},
   "outputs": [],
   "source": [
    "d=np.random.randint(10000,50000,40)"
   ]
  },
  {
   "cell_type": "code",
   "execution_count": 3,
   "id": "77a6f2c9",
   "metadata": {},
   "outputs": [],
   "source": [
    "e=d.reshape(8,5)"
   ]
  },
  {
   "cell_type": "code",
   "execution_count": 4,
   "id": "cfc87fcb",
   "metadata": {},
   "outputs": [
    {
     "data": {
      "text/plain": [
       "array([[30706, 34708, 13483, 38168, 24771],\n",
       "       [24575, 27727, 27202, 14593, 36745],\n",
       "       [36441, 38219, 34864, 45028, 43143],\n",
       "       [28727, 18086, 24409, 21870, 14793],\n",
       "       [27273, 15117, 47689, 30052, 32190],\n",
       "       [39619, 31924, 45323, 14909, 13267],\n",
       "       [45767, 36792, 30801, 20580, 30534],\n",
       "       [46435, 49812, 36648, 12697, 30111]])"
      ]
     },
     "execution_count": 4,
     "metadata": {},
     "output_type": "execute_result"
    }
   ],
   "source": [
    "e"
   ]
  },
  {
   "cell_type": "code",
   "execution_count": 69,
   "id": "cf49c61d",
   "metadata": {},
   "outputs": [
    {
     "data": {
      "text/plain": [
       "array([[43617],\n",
       "       [39868],\n",
       "       [20811],\n",
       "       [44089],\n",
       "       [33066],\n",
       "       [27308],\n",
       "       [19414],\n",
       "       [13263]])"
      ]
     },
     "execution_count": 69,
     "metadata": {},
     "output_type": "execute_result"
    }
   ],
   "source": [
    "e[:,0:1]"
   ]
  },
  {
   "cell_type": "code",
   "execution_count": 70,
   "id": "7d602256",
   "metadata": {},
   "outputs": [],
   "source": [
    "d=np.random.randint(10000,50000,9)"
   ]
  },
  {
   "cell_type": "code",
   "execution_count": 73,
   "id": "c030f35d",
   "metadata": {},
   "outputs": [],
   "source": [
    "f=d.reshape(3,3)"
   ]
  },
  {
   "cell_type": "code",
   "execution_count": 74,
   "id": "3d89ec68",
   "metadata": {},
   "outputs": [
    {
     "data": {
      "text/plain": [
       "array([[19160, 41627, 20159],\n",
       "       [49767, 34976, 36972],\n",
       "       [13971, 28283, 36343]])"
      ]
     },
     "execution_count": 74,
     "metadata": {},
     "output_type": "execute_result"
    }
   ],
   "source": [
    "f"
   ]
  },
  {
   "cell_type": "code",
   "execution_count": 75,
   "id": "4e2c4372",
   "metadata": {},
   "outputs": [
    {
     "data": {
      "text/plain": [
       "array([[19160, 41627, 20159],\n",
       "       [49767, 34976, 36972],\n",
       "       [13971, 28283, 36343]])"
      ]
     },
     "execution_count": 75,
     "metadata": {},
     "output_type": "execute_result"
    }
   ],
   "source": [
    "f[:]"
   ]
  },
  {
   "cell_type": "code",
   "execution_count": 76,
   "id": "66744ed3",
   "metadata": {},
   "outputs": [
    {
     "data": {
      "text/plain": [
       "array([[49767, 34976, 36972],\n",
       "       [13971, 28283, 36343]])"
      ]
     },
     "execution_count": 76,
     "metadata": {},
     "output_type": "execute_result"
    }
   ],
   "source": [
    "f[1:]"
   ]
  },
  {
   "cell_type": "code",
   "execution_count": 78,
   "id": "62ebb12b",
   "metadata": {},
   "outputs": [
    {
     "data": {
      "text/plain": [
       "41627"
      ]
     },
     "execution_count": 78,
     "metadata": {},
     "output_type": "execute_result"
    }
   ],
   "source": [
    "f[0,1]"
   ]
  },
  {
   "cell_type": "code",
   "execution_count": 79,
   "id": "9733fd79",
   "metadata": {},
   "outputs": [
    {
     "data": {
      "text/plain": [
       "array([[19160, 41627, 20159],\n",
       "       [49767, 34976, 36972]])"
      ]
     },
     "execution_count": 79,
     "metadata": {},
     "output_type": "execute_result"
    }
   ],
   "source": [
    "f[0:2]"
   ]
  },
  {
   "cell_type": "code",
   "execution_count": 80,
   "id": "55fe5ece",
   "metadata": {},
   "outputs": [
    {
     "data": {
      "text/plain": [
       "array([[19160, 41627, 20159],\n",
       "       [49767, 34976, 36972],\n",
       "       [13971, 28283, 36343]])"
      ]
     },
     "execution_count": 80,
     "metadata": {},
     "output_type": "execute_result"
    }
   ],
   "source": [
    "f"
   ]
  },
  {
   "cell_type": "code",
   "execution_count": 81,
   "id": "e7619f37",
   "metadata": {},
   "outputs": [
    {
     "data": {
      "text/plain": [
       "19160"
      ]
     },
     "execution_count": 81,
     "metadata": {},
     "output_type": "execute_result"
    }
   ],
   "source": [
    "f[0,0]"
   ]
  },
  {
   "cell_type": "code",
   "execution_count": 87,
   "id": "33f1bcec",
   "metadata": {},
   "outputs": [
    {
     "data": {
      "text/plain": [
       "array([[19160, 41627, 20159],\n",
       "       [49767, 34976, 36972],\n",
       "       [13971, 28283, 36343]])"
      ]
     },
     "execution_count": 87,
     "metadata": {},
     "output_type": "execute_result"
    }
   ],
   "source": [
    "f[0:3]"
   ]
  },
  {
   "cell_type": "code",
   "execution_count": 91,
   "id": "af4a6627",
   "metadata": {},
   "outputs": [
    {
     "data": {
      "text/plain": [
       "array([[19160, 41627, 20159]])"
      ]
     },
     "execution_count": 91,
     "metadata": {},
     "output_type": "execute_result"
    }
   ],
   "source": [
    "f[:1,]"
   ]
  },
  {
   "cell_type": "code",
   "execution_count": 92,
   "id": "be7c1174",
   "metadata": {},
   "outputs": [
    {
     "data": {
      "text/plain": [
       "array([19160, 49767, 13971])"
      ]
     },
     "execution_count": 92,
     "metadata": {},
     "output_type": "execute_result"
    }
   ],
   "source": [
    "f[:,0]"
   ]
  },
  {
   "cell_type": "code",
   "execution_count": 95,
   "id": "0f1809f9",
   "metadata": {},
   "outputs": [
    {
     "data": {
      "text/plain": [
       "array([41627, 34976])"
      ]
     },
     "execution_count": 95,
     "metadata": {},
     "output_type": "execute_result"
    }
   ],
   "source": [
    "f[:2,1]"
   ]
  },
  {
   "cell_type": "code",
   "execution_count": 96,
   "id": "534a83bf",
   "metadata": {},
   "outputs": [
    {
     "data": {
      "text/plain": [
       "array([[41627, 20159],\n",
       "       [34976, 36972]])"
      ]
     },
     "execution_count": 96,
     "metadata": {},
     "output_type": "execute_result"
    }
   ],
   "source": [
    "f[0:2,1:]"
   ]
  },
  {
   "cell_type": "code",
   "execution_count": 97,
   "id": "ac3c8c9b",
   "metadata": {},
   "outputs": [
    {
     "data": {
      "text/plain": [
       "array([[19160, 41627, 20159],\n",
       "       [49767, 34976, 36972],\n",
       "       [13971, 28283, 36343]])"
      ]
     },
     "execution_count": 97,
     "metadata": {},
     "output_type": "execute_result"
    }
   ],
   "source": [
    "f"
   ]
  },
  {
   "cell_type": "code",
   "execution_count": 100,
   "id": "4ca36ac2",
   "metadata": {},
   "outputs": [
    {
     "data": {
      "text/plain": [
       "array([[49767, 34976, 36972],\n",
       "       [13971, 28283, 36343]])"
      ]
     },
     "execution_count": 100,
     "metadata": {},
     "output_type": "execute_result"
    }
   ],
   "source": [
    "f[1:]"
   ]
  },
  {
   "cell_type": "code",
   "execution_count": 102,
   "id": "97de1fc5",
   "metadata": {},
   "outputs": [
    {
     "data": {
      "text/plain": [
       "array([[49767, 34976],\n",
       "       [13971, 28283]])"
      ]
     },
     "execution_count": 102,
     "metadata": {},
     "output_type": "execute_result"
    }
   ],
   "source": [
    "f[1:,0:2]"
   ]
  },
  {
   "cell_type": "code",
   "execution_count": 105,
   "id": "1d115254",
   "metadata": {},
   "outputs": [
    {
     "data": {
      "text/plain": [
       "array([[49767, 34976, 36972],\n",
       "       [13971, 28283, 36343]])"
      ]
     },
     "execution_count": 105,
     "metadata": {},
     "output_type": "execute_result"
    }
   ],
   "source": [
    "f[1:]"
   ]
  },
  {
   "cell_type": "code",
   "execution_count": 106,
   "id": "092456cd",
   "metadata": {},
   "outputs": [
    {
     "data": {
      "text/plain": [
       "array([[34976, 36972],\n",
       "       [28283, 36343]])"
      ]
     },
     "execution_count": 106,
     "metadata": {},
     "output_type": "execute_result"
    }
   ],
   "source": [
    "f[1:,1:]"
   ]
  },
  {
   "cell_type": "code",
   "execution_count": 108,
   "id": "d534ac5f",
   "metadata": {},
   "outputs": [
    {
     "data": {
      "text/plain": [
       "array([[34976],\n",
       "       [28283]])"
      ]
     },
     "execution_count": 108,
     "metadata": {},
     "output_type": "execute_result"
    }
   ],
   "source": [
    "f[1:,1:2]"
   ]
  },
  {
   "cell_type": "code",
   "execution_count": 5,
   "id": "a1556492",
   "metadata": {},
   "outputs": [
    {
     "data": {
      "text/plain": [
       "array([[30706, 34708, 13483, 38168, 24771],\n",
       "       [24575, 27727, 27202, 14593, 36745],\n",
       "       [36441, 38219, 34864, 45028, 43143],\n",
       "       [28727, 18086, 24409, 21870, 14793],\n",
       "       [27273, 15117, 47689, 30052, 32190],\n",
       "       [39619, 31924, 45323, 14909, 13267],\n",
       "       [45767, 36792, 30801, 20580, 30534],\n",
       "       [46435, 49812, 36648, 12697, 30111]])"
      ]
     },
     "execution_count": 5,
     "metadata": {},
     "output_type": "execute_result"
    }
   ],
   "source": [
    "e"
   ]
  },
  {
   "cell_type": "code",
   "execution_count": 6,
   "id": "13b6d6f2",
   "metadata": {},
   "outputs": [
    {
     "data": {
      "text/plain": [
       "array([[34864, 45028],\n",
       "       [24409, 21870]])"
      ]
     },
     "execution_count": 6,
     "metadata": {},
     "output_type": "execute_result"
    }
   ],
   "source": [
    "e[2:4,2:4]"
   ]
  },
  {
   "cell_type": "code",
   "execution_count": 7,
   "id": "b6d0815f",
   "metadata": {},
   "outputs": [
    {
     "data": {
      "text/plain": [
       "array([[30706, 34708, 13483, 38168, 24771],\n",
       "       [24575, 27727, 27202, 14593, 36745],\n",
       "       [36441, 38219, 34864, 45028, 43143],\n",
       "       [28727, 18086, 24409, 21870, 14793],\n",
       "       [27273, 15117, 47689, 30052, 32190],\n",
       "       [39619, 31924, 45323, 14909, 13267],\n",
       "       [45767, 36792, 30801, 20580, 30534],\n",
       "       [46435, 49812, 36648, 12697, 30111]])"
      ]
     },
     "execution_count": 7,
     "metadata": {},
     "output_type": "execute_result"
    }
   ],
   "source": [
    "e"
   ]
  },
  {
   "cell_type": "code",
   "execution_count": 8,
   "id": "55448358",
   "metadata": {},
   "outputs": [
    {
     "data": {
      "text/plain": [
       "array([[27273, 15117],\n",
       "       [39619, 31924],\n",
       "       [45767, 36792]])"
      ]
     },
     "execution_count": 8,
     "metadata": {},
     "output_type": "execute_result"
    }
   ],
   "source": [
    "e[4:7,:2]"
   ]
  },
  {
   "cell_type": "code",
   "execution_count": 1,
   "id": "15f96d0e",
   "metadata": {},
   "outputs": [],
   "source": [
    "import numpy as np"
   ]
  },
  {
   "cell_type": "markdown",
   "id": "c6efeaed",
   "metadata": {},
   "source": [
    "# Stacking and Splitting(joining)"
   ]
  },
  {
   "cell_type": "code",
   "execution_count": 2,
   "id": "cac0faca",
   "metadata": {},
   "outputs": [],
   "source": [
    "arr1=np.random.randint(1,20,12).reshape(3,4)"
   ]
  },
  {
   "cell_type": "code",
   "execution_count": 3,
   "id": "e9ce3255",
   "metadata": {},
   "outputs": [],
   "source": [
    "arr2=np.random.randint(10,30,12).reshape(3,4)"
   ]
  },
  {
   "cell_type": "code",
   "execution_count": 4,
   "id": "7cabd969",
   "metadata": {},
   "outputs": [
    {
     "data": {
      "text/plain": [
       "array([[11,  1,  3,  7],\n",
       "       [18,  1, 18,  9],\n",
       "       [18,  3, 18, 17]])"
      ]
     },
     "execution_count": 4,
     "metadata": {},
     "output_type": "execute_result"
    }
   ],
   "source": [
    "arr1"
   ]
  },
  {
   "cell_type": "code",
   "execution_count": 5,
   "id": "c1140cf8",
   "metadata": {},
   "outputs": [
    {
     "data": {
      "text/plain": [
       "array([[27, 19, 12, 13],\n",
       "       [16, 28, 16, 19],\n",
       "       [27, 19, 28, 22]])"
      ]
     },
     "execution_count": 5,
     "metadata": {},
     "output_type": "execute_result"
    }
   ],
   "source": [
    "arr2"
   ]
  },
  {
   "cell_type": "code",
   "execution_count": 6,
   "id": "bc687a29",
   "metadata": {},
   "outputs": [
    {
     "data": {
      "text/plain": [
       "array([[11,  1,  3,  7, 27, 19, 12, 13],\n",
       "       [18,  1, 18,  9, 16, 28, 16, 19],\n",
       "       [18,  3, 18, 17, 27, 19, 28, 22]])"
      ]
     },
     "execution_count": 6,
     "metadata": {},
     "output_type": "execute_result"
    }
   ],
   "source": [
    "np.hstack((arr1,arr2))"
   ]
  },
  {
   "cell_type": "code",
   "execution_count": 7,
   "id": "bd7729c0",
   "metadata": {},
   "outputs": [
    {
     "data": {
      "text/plain": [
       "array([[11,  1,  3,  7],\n",
       "       [18,  1, 18,  9],\n",
       "       [18,  3, 18, 17],\n",
       "       [27, 19, 12, 13],\n",
       "       [16, 28, 16, 19],\n",
       "       [27, 19, 28, 22]])"
      ]
     },
     "execution_count": 7,
     "metadata": {},
     "output_type": "execute_result"
    }
   ],
   "source": [
    "np.vstack((arr1,arr2))"
   ]
  },
  {
   "cell_type": "code",
   "execution_count": 8,
   "id": "2f554018",
   "metadata": {},
   "outputs": [
    {
     "data": {
      "text/plain": [
       "array([[[11, 27],\n",
       "        [ 1, 19],\n",
       "        [ 3, 12],\n",
       "        [ 7, 13]],\n",
       "\n",
       "       [[18, 16],\n",
       "        [ 1, 28],\n",
       "        [18, 16],\n",
       "        [ 9, 19]],\n",
       "\n",
       "       [[18, 27],\n",
       "        [ 3, 19],\n",
       "        [18, 28],\n",
       "        [17, 22]]])"
      ]
     },
     "execution_count": 8,
     "metadata": {},
     "output_type": "execute_result"
    }
   ],
   "source": [
    "np.dstack((arr1,arr2))"
   ]
  },
  {
   "cell_type": "code",
   "execution_count": 9,
   "id": "7d244c44",
   "metadata": {},
   "outputs": [
    {
     "data": {
      "text/plain": [
       "array([[11,  1,  3,  7],\n",
       "       [18,  1, 18,  9],\n",
       "       [18,  3, 18, 17],\n",
       "       [27, 19, 12, 13],\n",
       "       [16, 28, 16, 19],\n",
       "       [27, 19, 28, 22]])"
      ]
     },
     "execution_count": 9,
     "metadata": {},
     "output_type": "execute_result"
    }
   ],
   "source": [
    "np.concatenate((arr1,arr2))#if we donot provide the axis the default axis is 0 then it is vstack"
   ]
  },
  {
   "cell_type": "code",
   "execution_count": 10,
   "id": "a2350349",
   "metadata": {},
   "outputs": [
    {
     "data": {
      "text/plain": [
       "array([[11,  1,  3,  7, 27, 19, 12, 13],\n",
       "       [18,  1, 18,  9, 16, 28, 16, 19],\n",
       "       [18,  3, 18, 17, 27, 19, 28, 22]])"
      ]
     },
     "execution_count": 10,
     "metadata": {},
     "output_type": "execute_result"
    }
   ],
   "source": [
    "np.concatenate((arr1,arr2),axis=1) #if axis=1 then it will become hstack"
   ]
  },
  {
   "cell_type": "markdown",
   "id": "0ece2768",
   "metadata": {},
   "source": [
    "# Spliting"
   ]
  },
  {
   "cell_type": "code",
   "execution_count": 11,
   "id": "8a7add73",
   "metadata": {},
   "outputs": [
    {
     "data": {
      "text/plain": [
       "array([[11,  1,  3,  7],\n",
       "       [18,  1, 18,  9],\n",
       "       [18,  3, 18, 17]])"
      ]
     },
     "execution_count": 11,
     "metadata": {},
     "output_type": "execute_result"
    }
   ],
   "source": [
    "arr1"
   ]
  },
  {
   "cell_type": "code",
   "execution_count": 13,
   "id": "df5a7526",
   "metadata": {},
   "outputs": [
    {
     "data": {
      "text/plain": [
       "[array([[11,  1,  3,  7]]),\n",
       " array([[18,  1, 18,  9]]),\n",
       " array([[18,  3, 18, 17]])]"
      ]
     },
     "execution_count": 13,
     "metadata": {},
     "output_type": "execute_result"
    }
   ],
   "source": [
    "np.split(arr1,3)"
   ]
  },
  {
   "cell_type": "code",
   "execution_count": 14,
   "id": "b3a09412",
   "metadata": {},
   "outputs": [
    {
     "data": {
      "text/plain": [
       "[array([[11],\n",
       "        [18],\n",
       "        [18]]),\n",
       " array([[1],\n",
       "        [1],\n",
       "        [3]]),\n",
       " array([[ 3],\n",
       "        [18],\n",
       "        [18]]),\n",
       " array([[ 7],\n",
       "        [ 9],\n",
       "        [17]])]"
      ]
     },
     "execution_count": 14,
     "metadata": {},
     "output_type": "execute_result"
    }
   ],
   "source": [
    "np.split(arr1,4,axis=1)"
   ]
  },
  {
   "cell_type": "code",
   "execution_count": 17,
   "id": "d9329432",
   "metadata": {},
   "outputs": [
    {
     "data": {
      "text/plain": [
       "[array([[11,  1,  3,  7]]),\n",
       " array([[18,  1, 18,  9]]),\n",
       " array([[18,  3, 18, 17]]),\n",
       " array([], shape=(0, 4), dtype=int32)]"
      ]
     },
     "execution_count": 17,
     "metadata": {},
     "output_type": "execute_result"
    }
   ],
   "source": [
    "np.array_split(arr1,4,axis=0)#splits as per sections"
   ]
  },
  {
   "cell_type": "raw",
   "id": "0e653adf",
   "metadata": {},
   "source": [
    "splits divides the array into the eqaul parts if there is mismatch in the given splits, then it will \n",
    "throw an value error"
   ]
  },
  {
   "cell_type": "raw",
   "id": "a00434e5",
   "metadata": {},
   "source": [
    "array_split- divides the array into the as per our recomdation in the slices"
   ]
  },
  {
   "cell_type": "markdown",
   "id": "34a6628d",
   "metadata": {},
   "source": [
    "# view vs copy"
   ]
  },
  {
   "cell_type": "code",
   "execution_count": 18,
   "id": "86723a0a",
   "metadata": {},
   "outputs": [
    {
     "data": {
      "text/plain": [
       "array([[11,  1,  3,  7],\n",
       "       [18,  1, 18,  9],\n",
       "       [18,  3, 18, 17]])"
      ]
     },
     "execution_count": 18,
     "metadata": {},
     "output_type": "execute_result"
    }
   ],
   "source": [
    "arr1"
   ]
  },
  {
   "cell_type": "code",
   "execution_count": 19,
   "id": "f419f762",
   "metadata": {},
   "outputs": [
    {
     "data": {
      "text/plain": [
       "array([[27, 19, 12, 13],\n",
       "       [16, 28, 16, 19],\n",
       "       [27, 19, 28, 22]])"
      ]
     },
     "execution_count": 19,
     "metadata": {},
     "output_type": "execute_result"
    }
   ],
   "source": [
    "arr2"
   ]
  },
  {
   "cell_type": "markdown",
   "id": "57c6cf04",
   "metadata": {},
   "source": [
    "# view"
   ]
  },
  {
   "cell_type": "code",
   "execution_count": 23,
   "id": "5b7e8d34",
   "metadata": {},
   "outputs": [],
   "source": [
    "arr1_view=arr1.view() #muttable it is reflected on the original array"
   ]
  },
  {
   "cell_type": "code",
   "execution_count": 24,
   "id": "1d4aad0c",
   "metadata": {},
   "outputs": [
    {
     "data": {
      "text/plain": [
       "array([[11,  1,  3,  7],\n",
       "       [18,  1, 18,  9],\n",
       "       [18,  3, 18, 17]])"
      ]
     },
     "execution_count": 24,
     "metadata": {},
     "output_type": "execute_result"
    }
   ],
   "source": [
    "arr1_view "
   ]
  },
  {
   "cell_type": "code",
   "execution_count": 26,
   "id": "bf22bce9",
   "metadata": {},
   "outputs": [],
   "source": [
    "arr1_view[0,3]=2000"
   ]
  },
  {
   "cell_type": "code",
   "execution_count": 27,
   "id": "475fd586",
   "metadata": {},
   "outputs": [
    {
     "data": {
      "text/plain": [
       "array([[  11,    1,    3, 2000],\n",
       "       [  18,    1,   18,    9],\n",
       "       [  18,    3,   18,   17]])"
      ]
     },
     "execution_count": 27,
     "metadata": {},
     "output_type": "execute_result"
    }
   ],
   "source": [
    "arr1_view\n"
   ]
  },
  {
   "cell_type": "code",
   "execution_count": 28,
   "id": "cfe01adb",
   "metadata": {},
   "outputs": [
    {
     "data": {
      "text/plain": [
       "array([[  11,    1,    3, 2000],\n",
       "       [  18,    1,   18,    9],\n",
       "       [  18,    3,   18,   17]])"
      ]
     },
     "execution_count": 28,
     "metadata": {},
     "output_type": "execute_result"
    }
   ],
   "source": [
    "arr1"
   ]
  },
  {
   "cell_type": "markdown",
   "id": "13c9760a",
   "metadata": {},
   "source": [
    "# copy"
   ]
  },
  {
   "cell_type": "code",
   "execution_count": 29,
   "id": "cb5f4214",
   "metadata": {},
   "outputs": [],
   "source": [
    "arr2_copy=arr2.copy()"
   ]
  },
  {
   "cell_type": "code",
   "execution_count": 30,
   "id": "cdf0e988",
   "metadata": {},
   "outputs": [
    {
     "data": {
      "text/plain": [
       "array([[27, 19, 12, 13],\n",
       "       [16, 28, 16, 19],\n",
       "       [27, 19, 28, 22]])"
      ]
     },
     "execution_count": 30,
     "metadata": {},
     "output_type": "execute_result"
    }
   ],
   "source": [
    "arr2_copy"
   ]
  },
  {
   "cell_type": "code",
   "execution_count": 32,
   "id": "74a5991c",
   "metadata": {},
   "outputs": [],
   "source": [
    "arr2_copy[0,2]=2000"
   ]
  },
  {
   "cell_type": "code",
   "execution_count": 33,
   "id": "b077b850",
   "metadata": {},
   "outputs": [
    {
     "data": {
      "text/plain": [
       "array([[  27,   19, 2000,   13],\n",
       "       [  16,   28,   16,   19],\n",
       "       [  27,   19,   28,   22]])"
      ]
     },
     "execution_count": 33,
     "metadata": {},
     "output_type": "execute_result"
    }
   ],
   "source": [
    "arr2_copy # copy is immutable it is not reflected on the original array"
   ]
  },
  {
   "cell_type": "code",
   "execution_count": 34,
   "id": "aa371031",
   "metadata": {},
   "outputs": [
    {
     "data": {
      "text/plain": [
       "array([[27, 19, 12, 13],\n",
       "       [16, 28, 16, 19],\n",
       "       [27, 19, 28, 22]])"
      ]
     },
     "execution_count": 34,
     "metadata": {},
     "output_type": "execute_result"
    }
   ],
   "source": [
    "arr2"
   ]
  },
  {
   "cell_type": "markdown",
   "id": "21b93f8c",
   "metadata": {},
   "source": [
    "# ravel vs flatten"
   ]
  },
  {
   "cell_type": "raw",
   "id": "4e25c7bb",
   "metadata": {},
   "source": [
    "both are flatten and ravel are used to convert n-dimensional array to 1-dimensional array"
   ]
  },
  {
   "cell_type": "code",
   "execution_count": 35,
   "id": "47fb90b7",
   "metadata": {},
   "outputs": [
    {
     "data": {
      "text/plain": [
       "array([[27, 19, 12, 13],\n",
       "       [16, 28, 16, 19],\n",
       "       [27, 19, 28, 22]])"
      ]
     },
     "execution_count": 35,
     "metadata": {},
     "output_type": "execute_result"
    }
   ],
   "source": [
    "arr2"
   ]
  },
  {
   "cell_type": "code",
   "execution_count": 43,
   "id": "f3e51891",
   "metadata": {},
   "outputs": [
    {
     "data": {
      "text/plain": [
       "array([27, 19, 12, 13, 16, 28, 16, 19, 27, 19, 28, 22])"
      ]
     },
     "execution_count": 43,
     "metadata": {},
     "output_type": "execute_result"
    }
   ],
   "source": [
    "f=np.ravel(arr2) # is same as view but it store in the 1-dimensional array\n",
    "f"
   ]
  },
  {
   "cell_type": "code",
   "execution_count": 44,
   "id": "326ee3b0",
   "metadata": {},
   "outputs": [],
   "source": [
    "f[2]=60000\n"
   ]
  },
  {
   "cell_type": "code",
   "execution_count": 45,
   "id": "048c6d75",
   "metadata": {},
   "outputs": [
    {
     "data": {
      "text/plain": [
       "array([   27,    19, 60000,    13,    16,    28,    16,    19,    27,\n",
       "          19,    28,    22])"
      ]
     },
     "execution_count": 45,
     "metadata": {},
     "output_type": "execute_result"
    }
   ],
   "source": [
    "f"
   ]
  },
  {
   "cell_type": "code",
   "execution_count": 46,
   "id": "33dba433",
   "metadata": {},
   "outputs": [
    {
     "data": {
      "text/plain": [
       "array([[   27,    19, 60000,    13],\n",
       "       [   16,    28,    16,    19],\n",
       "       [   27,    19,    28,    22]])"
      ]
     },
     "execution_count": 46,
     "metadata": {},
     "output_type": "execute_result"
    }
   ],
   "source": [
    "arr2"
   ]
  },
  {
   "cell_type": "markdown",
   "id": "41a33226",
   "metadata": {},
   "source": [
    "# flatten"
   ]
  },
  {
   "cell_type": "code",
   "execution_count": 47,
   "id": "9ae5269b",
   "metadata": {},
   "outputs": [
    {
     "data": {
      "text/plain": [
       "array([[  11,    1,    3, 2000],\n",
       "       [  18,    1,   18,    9],\n",
       "       [  18,    3,   18,   17]])"
      ]
     },
     "execution_count": 47,
     "metadata": {},
     "output_type": "execute_result"
    }
   ],
   "source": [
    "arr1"
   ]
  },
  {
   "cell_type": "code",
   "execution_count": 48,
   "id": "5af595f0",
   "metadata": {},
   "outputs": [],
   "source": [
    "f=arr1.flatten() # is same as copybut it store in the 1-dimensional array"
   ]
  },
  {
   "cell_type": "code",
   "execution_count": 49,
   "id": "a74dab85",
   "metadata": {},
   "outputs": [
    {
     "data": {
      "text/plain": [
       "array([  11,    1,    3, 2000,   18,    1,   18,    9,   18,    3,   18,\n",
       "         17])"
      ]
     },
     "execution_count": 49,
     "metadata": {},
     "output_type": "execute_result"
    }
   ],
   "source": [
    "f"
   ]
  },
  {
   "cell_type": "code",
   "execution_count": 52,
   "id": "aaa68242",
   "metadata": {},
   "outputs": [],
   "source": [
    "f[3]=8000"
   ]
  },
  {
   "cell_type": "code",
   "execution_count": 53,
   "id": "e2443bf7",
   "metadata": {},
   "outputs": [
    {
     "data": {
      "text/plain": [
       "array([  11,    1,    3, 8000,   18,    1,   18,    9,   18,    3,   18,\n",
       "         17])"
      ]
     },
     "execution_count": 53,
     "metadata": {},
     "output_type": "execute_result"
    }
   ],
   "source": [
    "f"
   ]
  },
  {
   "cell_type": "code",
   "execution_count": 54,
   "id": "e9a3488c",
   "metadata": {},
   "outputs": [
    {
     "data": {
      "text/plain": [
       "array([[  11,    1,    3, 2000],\n",
       "       [  18,    1,   18,    9],\n",
       "       [  18,    3,   18,   17]])"
      ]
     },
     "execution_count": 54,
     "metadata": {},
     "output_type": "execute_result"
    }
   ],
   "source": [
    "arr1"
   ]
  },
  {
   "cell_type": "markdown",
   "id": "3d12b1cf",
   "metadata": {},
   "source": [
    "# Set Operations"
   ]
  },
  {
   "cell_type": "code",
   "execution_count": 55,
   "id": "23f7cbd2",
   "metadata": {},
   "outputs": [
    {
     "data": {
      "text/plain": [
       "array([[1, 2, 3],\n",
       "       [4, 5, 6],\n",
       "       [7, 8, 9]])"
      ]
     },
     "execution_count": 55,
     "metadata": {},
     "output_type": "execute_result"
    }
   ],
   "source": [
    "arr1=np.arange(1,10).reshape(3,3)\n",
    "arr1"
   ]
  },
  {
   "cell_type": "code",
   "execution_count": 56,
   "id": "3d6caefe",
   "metadata": {},
   "outputs": [
    {
     "data": {
      "text/plain": [
       "array([[ 8,  9, 10],\n",
       "       [11, 12, 13],\n",
       "       [14, 15, 16]])"
      ]
     },
     "execution_count": 56,
     "metadata": {},
     "output_type": "execute_result"
    }
   ],
   "source": [
    "arr2=np.arange(8,17).reshape(3,3)\n",
    "arr2"
   ]
  },
  {
   "cell_type": "code",
   "execution_count": 58,
   "id": "57f47bc8",
   "metadata": {},
   "outputs": [
    {
     "data": {
      "text/plain": [
       "array([ 1,  2,  3,  4,  5,  6,  7,  8,  9, 10, 11, 12, 13, 14, 15, 16])"
      ]
     },
     "execution_count": 58,
     "metadata": {},
     "output_type": "execute_result"
    }
   ],
   "source": [
    "np.union1d(arr1,arr2)"
   ]
  },
  {
   "cell_type": "code",
   "execution_count": 59,
   "id": "06caf39d",
   "metadata": {},
   "outputs": [
    {
     "data": {
      "text/plain": [
       "array([8, 9])"
      ]
     },
     "execution_count": 59,
     "metadata": {},
     "output_type": "execute_result"
    }
   ],
   "source": [
    "np.intersect1d(arr1,arr2)"
   ]
  },
  {
   "cell_type": "code",
   "execution_count": 62,
   "id": "26d9bd2e",
   "metadata": {},
   "outputs": [
    {
     "data": {
      "text/plain": [
       "array([1, 2, 3, 4, 5, 6, 7, 8, 9])"
      ]
     },
     "execution_count": 62,
     "metadata": {},
     "output_type": "execute_result"
    }
   ],
   "source": [
    "np.unique(arr1)"
   ]
  },
  {
   "cell_type": "code",
   "execution_count": 63,
   "id": "a21f24a9",
   "metadata": {},
   "outputs": [],
   "source": [
    "a=np.array([1,2,3,4,1,2,3,4,1,23,4])"
   ]
  },
  {
   "cell_type": "code",
   "execution_count": 65,
   "id": "64d8c0a9",
   "metadata": {},
   "outputs": [
    {
     "data": {
      "text/plain": [
       "array([ 1,  2,  3,  4, 23])"
      ]
     },
     "execution_count": 65,
     "metadata": {},
     "output_type": "execute_result"
    }
   ],
   "source": [
    "np.unique(a)"
   ]
  },
  {
   "cell_type": "code",
   "execution_count": 66,
   "id": "fb07cf96",
   "metadata": {},
   "outputs": [
    {
     "data": {
      "text/plain": [
       "array([1, 2, 3, 4, 5, 6, 7])"
      ]
     },
     "execution_count": 66,
     "metadata": {},
     "output_type": "execute_result"
    }
   ],
   "source": [
    "np.setdiff1d(arr1,arr2)"
   ]
  },
  {
   "cell_type": "code",
   "execution_count": 67,
   "id": "d1b0e875",
   "metadata": {},
   "outputs": [
    {
     "data": {
      "text/plain": [
       "array([10, 11, 12, 13, 14, 15, 16])"
      ]
     },
     "execution_count": 67,
     "metadata": {},
     "output_type": "execute_result"
    }
   ],
   "source": [
    "np.setdiff1d(arr2,arr1)"
   ]
  },
  {
   "cell_type": "markdown",
   "id": "d53ef375",
   "metadata": {},
   "source": [
    "# Matrix Operations"
   ]
  },
  {
   "cell_type": "code",
   "execution_count": 68,
   "id": "2deedcd5",
   "metadata": {},
   "outputs": [
    {
     "data": {
      "text/plain": [
       "array([[1, 2, 3],\n",
       "       [4, 5, 6],\n",
       "       [7, 8, 9]])"
      ]
     },
     "execution_count": 68,
     "metadata": {},
     "output_type": "execute_result"
    }
   ],
   "source": [
    "a=np.array([[1,2,3],[4,5,6],[7,8,9]])\n",
    "a"
   ]
  },
  {
   "cell_type": "code",
   "execution_count": 70,
   "id": "4061b14b",
   "metadata": {},
   "outputs": [
    {
     "data": {
      "text/plain": [
       "matrix([[1, 2, 3],\n",
       "        [4, 5, 6],\n",
       "        [7, 8, 9]])"
      ]
     },
     "execution_count": 70,
     "metadata": {},
     "output_type": "execute_result"
    }
   ],
   "source": [
    "np.matrix([[1,2,3],[4,5,6],[7,8,9]])"
   ]
  },
  {
   "cell_type": "code",
   "execution_count": 71,
   "id": "cc9eb624",
   "metadata": {},
   "outputs": [
    {
     "data": {
      "text/plain": [
       "array([[1., 0., 0.],\n",
       "       [0., 1., 0.],\n",
       "       [0., 0., 1.]])"
      ]
     },
     "execution_count": 71,
     "metadata": {},
     "output_type": "execute_result"
    }
   ],
   "source": [
    "np.eye(3)"
   ]
  },
  {
   "cell_type": "code",
   "execution_count": 73,
   "id": "acaa77a8",
   "metadata": {},
   "outputs": [
    {
     "data": {
      "text/plain": [
       "array([[1., 0., 0.],\n",
       "       [0., 1., 0.],\n",
       "       [0., 0., 1.]])"
      ]
     },
     "execution_count": 73,
     "metadata": {},
     "output_type": "execute_result"
    }
   ],
   "source": [
    "np.identity(3)"
   ]
  },
  {
   "cell_type": "code",
   "execution_count": 74,
   "id": "cba0046d",
   "metadata": {},
   "outputs": [
    {
     "data": {
      "text/plain": [
       "array([[1., 0., 0., 0.],\n",
       "       [0., 1., 0., 0.],\n",
       "       [0., 0., 1., 0.]])"
      ]
     },
     "execution_count": 74,
     "metadata": {},
     "output_type": "execute_result"
    }
   ],
   "source": [
    "np.eye(3,4) #it creates identity as per our requriment we can give any no of rows or columns"
   ]
  },
  {
   "cell_type": "code",
   "execution_count": 75,
   "id": "d2a0a618",
   "metadata": {},
   "outputs": [
    {
     "data": {
      "text/plain": [
       "array([[1, 4, 7],\n",
       "       [2, 5, 8],\n",
       "       [3, 6, 9]])"
      ]
     },
     "execution_count": 75,
     "metadata": {},
     "output_type": "execute_result"
    }
   ],
   "source": [
    "a.T #rows becomes colums and columns becomes as rows"
   ]
  },
  {
   "cell_type": "code",
   "execution_count": 77,
   "id": "10e8b746",
   "metadata": {},
   "outputs": [
    {
     "data": {
      "text/plain": [
       "array([1, 5, 9])"
      ]
     },
     "execution_count": 77,
     "metadata": {},
     "output_type": "execute_result"
    }
   ],
   "source": [
    "a.diagonal()"
   ]
  },
  {
   "cell_type": "markdown",
   "id": "75006e77",
   "metadata": {},
   "source": [
    "# Linear Algebra"
   ]
  },
  {
   "cell_type": "code",
   "execution_count": 78,
   "id": "bf43a40e",
   "metadata": {},
   "outputs": [],
   "source": [
    "a=np.matrix([[1,2],[2,-3]])"
   ]
  },
  {
   "cell_type": "code",
   "execution_count": 79,
   "id": "d0f6c3c0",
   "metadata": {},
   "outputs": [],
   "source": [
    "b=np.matrix([[3],[7]])"
   ]
  },
  {
   "cell_type": "code",
   "execution_count": 80,
   "id": "2539691a",
   "metadata": {},
   "outputs": [
    {
     "data": {
      "text/plain": [
       "matrix([[ 3.28571429],\n",
       "        [-0.14285714]])"
      ]
     },
     "execution_count": 80,
     "metadata": {},
     "output_type": "execute_result"
    }
   ],
   "source": [
    "np.linalg.solve(a,b)"
   ]
  },
  {
   "cell_type": "code",
   "execution_count": 86,
   "id": "bb1742c8",
   "metadata": {},
   "outputs": [],
   "source": [
    "c=np.matrix([[1,10,-3],[10,-1,30],[0,1,1]])\n"
   ]
  },
  {
   "cell_type": "code",
   "execution_count": 87,
   "id": "4f5af21a",
   "metadata": {},
   "outputs": [],
   "source": [
    "d=np.matrix([[9],[3],[100]])"
   ]
  },
  {
   "cell_type": "code",
   "execution_count": 88,
   "id": "42a165ff",
   "metadata": {},
   "outputs": [
    {
     "data": {
      "text/plain": [
       "matrix([[-182.49689441],\n",
       "        [  37.80745342],\n",
       "        [  62.19254658]])"
      ]
     },
     "execution_count": 88,
     "metadata": {},
     "output_type": "execute_result"
    }
   ],
   "source": [
    "np.linalg.solve(c,d)"
   ]
  },
  {
   "cell_type": "code",
   "execution_count": 90,
   "id": "24a0b15b",
   "metadata": {},
   "outputs": [],
   "source": [
    "f=np.matrix([[10,2,6],[5,3,6],[2,4,3]])"
   ]
  },
  {
   "cell_type": "code",
   "execution_count": 91,
   "id": "891a927d",
   "metadata": {},
   "outputs": [
    {
     "data": {
      "text/plain": [
       "matrix([[10,  2,  6],\n",
       "        [ 5,  3,  6],\n",
       "        [ 2,  4,  3]])"
      ]
     },
     "execution_count": 91,
     "metadata": {},
     "output_type": "execute_result"
    }
   ],
   "source": [
    "f"
   ]
  },
  {
   "cell_type": "code",
   "execution_count": 92,
   "id": "fca57b6b",
   "metadata": {},
   "outputs": [
    {
     "data": {
      "text/plain": [
       "-72.0"
      ]
     },
     "execution_count": 92,
     "metadata": {},
     "output_type": "execute_result"
    }
   ],
   "source": [
    "np.linalg.det(f)"
   ]
  },
  {
   "cell_type": "code",
   "execution_count": 94,
   "id": "31132ea0",
   "metadata": {},
   "outputs": [
    {
     "data": {
      "text/plain": [
       "matrix([[ 0.20833333, -0.25      ,  0.08333333],\n",
       "        [ 0.04166667, -0.25      ,  0.41666667],\n",
       "        [-0.19444444,  0.5       , -0.27777778]])"
      ]
     },
     "execution_count": 94,
     "metadata": {},
     "output_type": "execute_result"
    }
   ],
   "source": [
    "np.linalg.inv(f)"
   ]
  },
  {
   "cell_type": "code",
   "execution_count": 95,
   "id": "99778f46",
   "metadata": {},
   "outputs": [
    {
     "data": {
      "text/plain": [
       "array([13.98770596,  3.48802315, -1.47572911])"
      ]
     },
     "execution_count": 95,
     "metadata": {},
     "output_type": "execute_result"
    }
   ],
   "source": [
    "np.linalg.eigvals(f)"
   ]
  },
  {
   "cell_type": "code",
   "execution_count": 96,
   "id": "f7d202a0",
   "metadata": {},
   "outputs": [],
   "source": [
    "s,v,d=np.linalg.svd(f) #singular values for the decomposition"
   ]
  },
  {
   "cell_type": "code",
   "execution_count": 97,
   "id": "faa4f804",
   "metadata": {},
   "outputs": [
    {
     "data": {
      "text/plain": [
       "matrix([[-0.78017224,  0.54555499,  0.30610625],\n",
       "        [-0.54939806, -0.36354285, -0.75232863],\n",
       "        [-0.2991539 , -0.75512009,  0.58335289]])"
      ]
     },
     "execution_count": 97,
     "metadata": {},
     "output_type": "execute_result"
    }
   ],
   "source": [
    "s"
   ]
  },
  {
   "cell_type": "code",
   "execution_count": 98,
   "id": "5b0987f0",
   "metadata": {},
   "outputs": [
    {
     "data": {
      "text/plain": [
       "array([14.91391985,  3.87603656,  1.24552608])"
      ]
     },
     "execution_count": 98,
     "metadata": {},
     "output_type": "execute_result"
    }
   ],
   "source": [
    "v"
   ]
  },
  {
   "cell_type": "code",
   "execution_count": 99,
   "id": "eb497248",
   "metadata": {},
   "outputs": [
    {
     "data": {
      "text/plain": [
       "matrix([[-0.74742392, -0.29537199, -0.59507383],\n",
       "        [ 0.54891006, -0.77914614, -0.30270288],\n",
       "        [ 0.37423953,  0.55288939, -0.74448512]])"
      ]
     },
     "execution_count": 99,
     "metadata": {},
     "output_type": "execute_result"
    }
   ],
   "source": [
    "d\n"
   ]
  },
  {
   "cell_type": "markdown",
   "id": "7291684c",
   "metadata": {},
   "source": [
    "# sorting and searching"
   ]
  },
  {
   "cell_type": "code",
   "execution_count": 100,
   "id": "b0e06d52",
   "metadata": {},
   "outputs": [],
   "source": [
    "arr3=np.random.randint(1,100,15)"
   ]
  },
  {
   "cell_type": "code",
   "execution_count": 101,
   "id": "cd44e4eb",
   "metadata": {},
   "outputs": [
    {
     "data": {
      "text/plain": [
       "array([19, 64, 70, 95, 28, 90, 46, 26, 52, 88, 66, 84, 82, 32, 50])"
      ]
     },
     "execution_count": 101,
     "metadata": {},
     "output_type": "execute_result"
    }
   ],
   "source": [
    "arr3"
   ]
  },
  {
   "cell_type": "code",
   "execution_count": 102,
   "id": "2f11d86e",
   "metadata": {},
   "outputs": [
    {
     "data": {
      "text/plain": [
       "array([19, 26, 28, 32, 46, 50, 52, 64, 66, 70, 82, 84, 88, 90, 95])"
      ]
     },
     "execution_count": 102,
     "metadata": {},
     "output_type": "execute_result"
    }
   ],
   "source": [
    "np.sort(arr3)"
   ]
  },
  {
   "cell_type": "code",
   "execution_count": 106,
   "id": "b19133cf",
   "metadata": {},
   "outputs": [
    {
     "data": {
      "text/plain": [
       "array([ 0,  7,  4, 13,  6, 14,  8,  1, 10,  2, 12, 11,  9,  5,  3],\n",
       "      dtype=int64)"
      ]
     },
     "execution_count": 106,
     "metadata": {},
     "output_type": "execute_result"
    }
   ],
   "source": [
    "np.argsort(arr3) #returns the index position of a array before sorting"
   ]
  },
  {
   "cell_type": "code",
   "execution_count": 107,
   "id": "f690ffbd",
   "metadata": {},
   "outputs": [
    {
     "data": {
      "text/plain": [
       "3"
      ]
     },
     "execution_count": 107,
     "metadata": {},
     "output_type": "execute_result"
    }
   ],
   "source": [
    "np.argmax(arr3) ##return the max index position of the array before sorting"
   ]
  },
  {
   "cell_type": "code",
   "execution_count": 108,
   "id": "a44fdd6d",
   "metadata": {},
   "outputs": [
    {
     "data": {
      "text/plain": [
       "0"
      ]
     },
     "execution_count": 108,
     "metadata": {},
     "output_type": "execute_result"
    }
   ],
   "source": [
    "np.argmin(arr3) #return the minimum index position of the array before sorting"
   ]
  },
  {
   "cell_type": "code",
   "execution_count": 111,
   "id": "c9663957",
   "metadata": {},
   "outputs": [],
   "source": [
    "arr1=np.random.randint(1,10,9).reshape(3,3)"
   ]
  },
  {
   "cell_type": "code",
   "execution_count": 112,
   "id": "49578602",
   "metadata": {},
   "outputs": [],
   "source": [
    "arr2=np.random.randint(15,30,9).reshape(3,3)"
   ]
  },
  {
   "cell_type": "code",
   "execution_count": 113,
   "id": "fcc64d6f",
   "metadata": {},
   "outputs": [
    {
     "data": {
      "text/plain": [
       "array([[2, 2, 6],\n",
       "       [2, 7, 5],\n",
       "       [3, 9, 5]])"
      ]
     },
     "execution_count": 113,
     "metadata": {},
     "output_type": "execute_result"
    }
   ],
   "source": [
    "arr1"
   ]
  },
  {
   "cell_type": "code",
   "execution_count": 114,
   "id": "d6afb82c",
   "metadata": {},
   "outputs": [
    {
     "data": {
      "text/plain": [
       "array([[24, 21, 23],\n",
       "       [29, 16, 21],\n",
       "       [24, 23, 24]])"
      ]
     },
     "execution_count": 114,
     "metadata": {},
     "output_type": "execute_result"
    }
   ],
   "source": [
    "arr2"
   ]
  },
  {
   "cell_type": "code",
   "execution_count": 115,
   "id": "ebb29377",
   "metadata": {},
   "outputs": [
    {
     "data": {
      "text/plain": [
       "array([[250, 212, 232],\n",
       "       [371, 269, 313],\n",
       "       [453, 322, 378]])"
      ]
     },
     "execution_count": 115,
     "metadata": {},
     "output_type": "execute_result"
    }
   ],
   "source": [
    "np.dot(arr1,arr2)"
   ]
  },
  {
   "cell_type": "code",
   "execution_count": 1,
   "id": "f80d9b76",
   "metadata": {},
   "outputs": [],
   "source": [
    "import numpy as np"
   ]
  },
  {
   "cell_type": "raw",
   "id": "f1654c74",
   "metadata": {},
   "source": [
    "Ages  =np.random.randint(1,100,30)\n",
    "1. what is average age of senior citizens(>55) ?\n",
    "2. what is the minimum age in the array?\n",
    "3. How many are eligible for casting the vote ? \n",
    "4. what is the standard deviation of ages ?\n",
    "5. what is the range of ages ?\n",
    "6.  is there any outlier ..prove it?"
   ]
  },
  {
   "cell_type": "code",
   "execution_count": 15,
   "id": "1ca44ed6",
   "metadata": {},
   "outputs": [
    {
     "data": {
      "text/plain": [
       "array([23, 29, 72, 85, 47, 18, 56, 51, 58, 14, 23, 11, 26, 75, 88, 83, 61,\n",
       "       14, 50, 44, 35, 49, 56, 10, 44, 84, 43, 25, 88, 59])"
      ]
     },
     "execution_count": 15,
     "metadata": {},
     "output_type": "execute_result"
    }
   ],
   "source": [
    "Ages  =np.random.randint(1,100,30)\n",
    "Ages"
   ]
  },
  {
   "cell_type": "code",
   "execution_count": 16,
   "id": "5da939b2",
   "metadata": {},
   "outputs": [
    {
     "data": {
      "text/plain": [
       "72.08333333333333"
      ]
     },
     "execution_count": 16,
     "metadata": {},
     "output_type": "execute_result"
    }
   ],
   "source": [
    "np.mean(Ages[Ages>55])"
   ]
  },
  {
   "cell_type": "code",
   "execution_count": 17,
   "id": "c8163bb4",
   "metadata": {},
   "outputs": [
    {
     "data": {
      "text/plain": [
       "10"
      ]
     },
     "execution_count": 17,
     "metadata": {},
     "output_type": "execute_result"
    }
   ],
   "source": [
    "minimum=np.min(Ages)\n",
    "minimum"
   ]
  },
  {
   "cell_type": "code",
   "execution_count": 18,
   "id": "80ac52d5",
   "metadata": {},
   "outputs": [
    {
     "data": {
      "text/plain": [
       "array([23, 29, 72, 85, 47, 56, 51, 58, 23, 26, 75, 88, 83, 61, 50, 44, 35,\n",
       "       49, 56, 44, 84, 43, 25, 88, 59])"
      ]
     },
     "execution_count": 18,
     "metadata": {},
     "output_type": "execute_result"
    }
   ],
   "source": [
    "Ages[Ages>18]"
   ]
  },
  {
   "cell_type": "code",
   "execution_count": 19,
   "id": "a47987bd",
   "metadata": {},
   "outputs": [
    {
     "data": {
      "text/plain": [
       "24.352252918820923"
      ]
     },
     "execution_count": 19,
     "metadata": {},
     "output_type": "execute_result"
    }
   ],
   "source": [
    "np.std(Ages)==="
   ]
  },
  {
   "cell_type": "code",
   "execution_count": 20,
   "id": "a490160d",
   "metadata": {},
   "outputs": [
    {
     "data": {
      "text/plain": [
       "88"
      ]
     },
     "execution_count": 20,
     "metadata": {},
     "output_type": "execute_result"
    }
   ],
   "source": [
    "maximum=np.max(Ages)\n",
    "maximum"
   ]
  },
  {
   "cell_type": "code",
   "execution_count": 21,
   "id": "83b574a4",
   "metadata": {},
   "outputs": [
    {
     "data": {
      "text/plain": [
       "78"
      ]
     },
     "execution_count": 21,
     "metadata": {},
     "output_type": "execute_result"
    }
   ],
   "source": [
    "range1=maximum - minimum\n",
    "range1"
   ]
  },
  {
   "cell_type": "code",
   "execution_count": 22,
   "id": "8d3a8ed7",
   "metadata": {},
   "outputs": [
    {
     "data": {
      "text/plain": [
       "array([], dtype=int32)"
      ]
     },
     "execution_count": 22,
     "metadata": {},
     "output_type": "execute_result"
    }
   ],
   "source": [
    "Q1=np.quantile(Ages,0.25)\n",
    "Q3=np.quantile(Ages,0.75)\n",
    "IQR=Q3-Q1\n",
    "Lower=Q1-(1.5*IQR)\n",
    "Upper=Q3+(1.5*IQR)\n",
    "Ages[(Ages<Q1) & (Ages>Q3)]"
   ]
  },
  {
   "cell_type": "markdown",
   "id": "2cf59557",
   "metadata": {},
   "source": [
    "# Mathmatical Operations"
   ]
  },
  {
   "cell_type": "code",
   "execution_count": 1,
   "id": "d224673e",
   "metadata": {},
   "outputs": [],
   "source": [
    "import numpy as np"
   ]
  },
  {
   "cell_type": "code",
   "execution_count": 2,
   "id": "ad6606bf",
   "metadata": {},
   "outputs": [],
   "source": [
    "a=6.2"
   ]
  },
  {
   "cell_type": "code",
   "execution_count": 3,
   "id": "956a6b4e",
   "metadata": {},
   "outputs": [
    {
     "data": {
      "text/plain": [
       "7.0"
      ]
     },
     "execution_count": 3,
     "metadata": {},
     "output_type": "execute_result"
    }
   ],
   "source": [
    "np.ceil(a)"
   ]
  },
  {
   "cell_type": "code",
   "execution_count": 4,
   "id": "7bfc9dbb",
   "metadata": {},
   "outputs": [
    {
     "data": {
      "text/plain": [
       "6.0"
      ]
     },
     "execution_count": 4,
     "metadata": {},
     "output_type": "execute_result"
    }
   ],
   "source": [
    "np.floor(a)"
   ]
  },
  {
   "cell_type": "code",
   "execution_count": 5,
   "id": "b53f5879",
   "metadata": {},
   "outputs": [
    {
     "data": {
      "text/plain": [
       "6.0"
      ]
     },
     "execution_count": 5,
     "metadata": {},
     "output_type": "execute_result"
    }
   ],
   "source": [
    "np.round(a)"
   ]
  },
  {
   "cell_type": "code",
   "execution_count": 6,
   "id": "5dbcc7b9",
   "metadata": {},
   "outputs": [],
   "source": [
    "arr1=np.array([1.2,2.3,3.5,4.4,5.9,6.7])"
   ]
  },
  {
   "cell_type": "code",
   "execution_count": 7,
   "id": "a5f97f92",
   "metadata": {},
   "outputs": [
    {
     "data": {
      "text/plain": [
       "array([1., 2., 3., 4., 5., 6.])"
      ]
     },
     "execution_count": 7,
     "metadata": {},
     "output_type": "execute_result"
    }
   ],
   "source": [
    "np.floor(arr1)"
   ]
  },
  {
   "cell_type": "code",
   "execution_count": 8,
   "id": "b2152a7c",
   "metadata": {},
   "outputs": [
    {
     "data": {
      "text/plain": [
       "array([2., 3., 4., 5., 6., 7.])"
      ]
     },
     "execution_count": 8,
     "metadata": {},
     "output_type": "execute_result"
    }
   ],
   "source": [
    "np.ceil(arr1)"
   ]
  },
  {
   "cell_type": "markdown",
   "id": "d49a8d7e",
   "metadata": {},
   "source": [
    "# Array Broadcasting"
   ]
  },
  {
   "cell_type": "code",
   "execution_count": 10,
   "id": "027d893f",
   "metadata": {},
   "outputs": [
    {
     "data": {
      "text/plain": [
       "array([[1, 2, 3],\n",
       "       [3, 4, 5]])"
      ]
     },
     "execution_count": 10,
     "metadata": {},
     "output_type": "execute_result"
    }
   ],
   "source": [
    "arr1=np.array([[1,2,3],[3,4,5]])\n",
    "arr1"
   ]
  },
  {
   "cell_type": "code",
   "execution_count": 11,
   "id": "39872776",
   "metadata": {},
   "outputs": [],
   "source": [
    "arr2=np.array([[1,2,3]])"
   ]
  },
  {
   "cell_type": "code",
   "execution_count": 12,
   "id": "c67c21e3",
   "metadata": {},
   "outputs": [
    {
     "data": {
      "text/plain": [
       "array([[1, 2, 3]])"
      ]
     },
     "execution_count": 12,
     "metadata": {},
     "output_type": "execute_result"
    }
   ],
   "source": [
    "arr2"
   ]
  },
  {
   "cell_type": "code",
   "execution_count": 13,
   "id": "63438146",
   "metadata": {},
   "outputs": [
    {
     "data": {
      "text/plain": [
       "array([[2, 4, 6],\n",
       "       [4, 6, 8]])"
      ]
     },
     "execution_count": 13,
     "metadata": {},
     "output_type": "execute_result"
    }
   ],
   "source": [
    "arr1+arr2"
   ]
  },
  {
   "cell_type": "code",
   "execution_count": 14,
   "id": "29b97828",
   "metadata": {},
   "outputs": [],
   "source": [
    "arr3=np.array([[1]])"
   ]
  },
  {
   "cell_type": "code",
   "execution_count": 16,
   "id": "e368244e",
   "metadata": {},
   "outputs": [
    {
     "data": {
      "text/plain": [
       "array([[2, 3, 4],\n",
       "       [4, 5, 6]])"
      ]
     },
     "execution_count": 16,
     "metadata": {},
     "output_type": "execute_result"
    }
   ],
   "source": [
    "arr1+arr3 #in this array array3 consiting of the single element so it is broadcasting as [[1,1,1],[1,1,1]]"
   ]
  },
  {
   "cell_type": "raw",
   "id": "559762a7",
   "metadata": {},
   "source": [
    "to apply broadcasting on the arrays \n",
    "-> the right most (trailing value must be same)\n",
    "-> If it is single element "
   ]
  },
  {
   "cell_type": "code",
   "execution_count": 17,
   "id": "990b49e1",
   "metadata": {},
   "outputs": [],
   "source": [
    "arr4=np.array([[1,2]])"
   ]
  },
  {
   "cell_type": "code",
   "execution_count": 18,
   "id": "5d49ed40",
   "metadata": {},
   "outputs": [
    {
     "ename": "ValueError",
     "evalue": "operands could not be broadcast together with shapes (2,3) (1,2) ",
     "output_type": "error",
     "traceback": [
      "\u001b[1;31m---------------------------------------------------------------------------\u001b[0m",
      "\u001b[1;31mValueError\u001b[0m                                Traceback (most recent call last)",
      "Cell \u001b[1;32mIn[18], line 1\u001b[0m\n\u001b[1;32m----> 1\u001b[0m arr1\u001b[38;5;241m+\u001b[39marr4\n",
      "\u001b[1;31mValueError\u001b[0m: operands could not be broadcast together with shapes (2,3) (1,2) "
     ]
    }
   ],
   "source": [
    "arr1+arr4"
   ]
  },
  {
   "cell_type": "code",
   "execution_count": 20,
   "id": "c57eba85",
   "metadata": {},
   "outputs": [],
   "source": [
    "arr5=np.array([[1],[2],[3]])"
   ]
  },
  {
   "cell_type": "code",
   "execution_count": 21,
   "id": "a8b2d84b",
   "metadata": {},
   "outputs": [
    {
     "ename": "ValueError",
     "evalue": "operands could not be broadcast together with shapes (2,3) (3,1) ",
     "output_type": "error",
     "traceback": [
      "\u001b[1;31m---------------------------------------------------------------------------\u001b[0m",
      "\u001b[1;31mValueError\u001b[0m                                Traceback (most recent call last)",
      "Cell \u001b[1;32mIn[21], line 1\u001b[0m\n\u001b[1;32m----> 1\u001b[0m arr1\u001b[38;5;241m+\u001b[39marr5\n",
      "\u001b[1;31mValueError\u001b[0m: operands could not be broadcast together with shapes (2,3) (3,1) "
     ]
    }
   ],
   "source": [
    "arr1+arr5"
   ]
  },
  {
   "cell_type": "code",
   "execution_count": 23,
   "id": "909d7831",
   "metadata": {},
   "outputs": [
    {
     "data": {
      "text/plain": [
       "array([[2, 4, 6],\n",
       "       [4, 6, 8]])"
      ]
     },
     "execution_count": 23,
     "metadata": {},
     "output_type": "execute_result"
    }
   ],
   "source": [
    "    arr1+arr5.T"
   ]
  },
  {
   "cell_type": "code",
   "execution_count": 26,
   "id": "956e146d",
   "metadata": {},
   "outputs": [
    {
     "data": {
      "text/plain": [
       "array([[1, 2],\n",
       "       [3, 4],\n",
       "       [5, 6]])"
      ]
     },
     "execution_count": 26,
     "metadata": {},
     "output_type": "execute_result"
    }
   ],
   "source": [
    "arr6=np.array([[1,2],[3,4],[5,6]])\n",
    "arr6"
   ]
  },
  {
   "cell_type": "markdown",
   "id": "b49a9489",
   "metadata": {},
   "source": [
    "# File Handling with numpy"
   ]
  },
  {
   "cell_type": "code",
   "execution_count": 28,
   "id": "17a85e64",
   "metadata": {},
   "outputs": [],
   "source": [
    "marks=np.array([45,65,33,23,np.nan,77,99,45,87])"
   ]
  },
  {
   "cell_type": "code",
   "execution_count": 29,
   "id": "00df32c7",
   "metadata": {},
   "outputs": [
    {
     "data": {
      "text/plain": [
       "array([45., 65., 33., 23., nan, 77., 99., 45., 87.])"
      ]
     },
     "execution_count": 29,
     "metadata": {},
     "output_type": "execute_result"
    }
   ],
   "source": [
    "marks"
   ]
  },
  {
   "cell_type": "code",
   "execution_count": 30,
   "id": "8449e5d4",
   "metadata": {},
   "outputs": [
    {
     "data": {
      "text/plain": [
       "nan"
      ]
     },
     "execution_count": 30,
     "metadata": {},
     "output_type": "execute_result"
    }
   ],
   "source": [
    "np.mean(marks)"
   ]
  },
  {
   "cell_type": "code",
   "execution_count": 42,
   "id": "2b23a2ff",
   "metadata": {},
   "outputs": [
    {
     "data": {
      "text/plain": [
       "59.25"
      ]
     },
     "execution_count": 42,
     "metadata": {},
     "output_type": "execute_result"
    }
   ],
   "source": [
    "a=np.nanmean(marks)\n",
    "a"
   ]
  },
  {
   "cell_type": "code",
   "execution_count": 33,
   "id": "46795883",
   "metadata": {},
   "outputs": [
    {
     "data": {
      "text/plain": [
       "55.0"
      ]
     },
     "execution_count": 33,
     "metadata": {},
     "output_type": "execute_result"
    }
   ],
   "source": [
    "np.nanmedian(marks)"
   ]
  },
  {
   "cell_type": "code",
   "execution_count": 34,
   "id": "e095f8bf",
   "metadata": {},
   "outputs": [
    {
     "data": {
      "text/plain": [
       "99.0"
      ]
     },
     "execution_count": 34,
     "metadata": {},
     "output_type": "execute_result"
    }
   ],
   "source": [
    "np.nanmax(marks)"
   ]
  },
  {
   "cell_type": "code",
   "execution_count": 35,
   "id": "e83013e8",
   "metadata": {},
   "outputs": [
    {
     "data": {
      "text/plain": [
       "23.0"
      ]
     },
     "execution_count": 35,
     "metadata": {},
     "output_type": "execute_result"
    }
   ],
   "source": [
    "np.nanmin(marks)"
   ]
  },
  {
   "cell_type": "markdown",
   "id": "f1601013",
   "metadata": {},
   "source": [
    "np.where(cond,True_value,False_value)"
   ]
  },
  {
   "cell_type": "code",
   "execution_count": 45,
   "id": "25dd7cdd",
   "metadata": {},
   "outputs": [
    {
     "data": {
      "text/plain": [
       "array([45.  , 65.  , 33.  , 23.  , 59.25, 77.  , 99.  , 45.  , 87.  ])"
      ]
     },
     "execution_count": 45,
     "metadata": {},
     "output_type": "execute_result"
    }
   ],
   "source": [
    "np.where(np.isnan(marks),np.nanmean(marks),marks)"
   ]
  },
  {
   "cell_type": "code",
   "execution_count": 47,
   "id": "23724a15",
   "metadata": {},
   "outputs": [
    {
     "data": {
      "text/plain": [
       "array([False, False, False, False,  True, False, False, False, False])"
      ]
     },
     "execution_count": 47,
     "metadata": {},
     "output_type": "execute_result"
    }
   ],
   "source": [
    "np.isnan(marks)"
   ]
  },
  {
   "cell_type": "code",
   "execution_count": 51,
   "id": "d2a5de56",
   "metadata": {},
   "outputs": [],
   "source": [
    "marks=np.array([45,65,33,23,np.nan,77,99,45,87])"
   ]
  },
  {
   "cell_type": "code",
   "execution_count": 53,
   "id": "e8f1a804",
   "metadata": {},
   "outputs": [
    {
     "data": {
      "text/plain": [
       "1"
      ]
     },
     "execution_count": 53,
     "metadata": {},
     "output_type": "execute_result"
    }
   ],
   "source": [
    "np.isnan(marks).sum()"
   ]
  },
  {
   "cell_type": "markdown",
   "id": "fde5d336",
   "metadata": {},
   "source": [
    "# csv files"
   ]
  },
  {
   "cell_type": "code",
   "execution_count": 130,
   "id": "296505c7",
   "metadata": {},
   "outputs": [
    {
     "data": {
      "text/plain": [
       "array([[    -1,     -1,     -1],\n",
       "       [    43,  20000,      5],\n",
       "       [    33,  40000,      5],\n",
       "       [    32, 500000,      3],\n",
       "       [    55,  20000,      6],\n",
       "       [    44,  15000,      8],\n",
       "       [     2,  45000,      1],\n",
       "       [    23,  20000,      5],\n",
       "       [    45,     -1,      0],\n",
       "       [   566, 361266,      2],\n",
       "       [    34,  31267,      2],\n",
       "       [    -1, 482848,     11],\n",
       "       [    77,  43747,      5],\n",
       "       [    23,     -1,      6],\n",
       "       [   111,  89423,      4],\n",
       "       [    23,   8589,     -1],\n",
       "       [    55,  44243,      2],\n",
       "       [    66,  43444,      2],\n",
       "       [    33,     -1,      9],\n",
       "       [    77,   4283,      3],\n",
       "       [    33,  99238,      1],\n",
       "       [    12,  37373,     -1]])"
      ]
     },
     "execution_count": 130,
     "metadata": {},
     "output_type": "execute_result"
    }
   ],
   "source": [
    "df=np.genfromtxt('salary.csv',dtype=\"int32\",delimiter=\",\")\n",
    "df"
   ]
  },
  {
   "cell_type": "code",
   "execution_count": 117,
   "id": "6ea9f8bf",
   "metadata": {},
   "outputs": [
    {
     "data": {
      "text/plain": [
       "array([[    43,  20000,      5],\n",
       "       [    33,  40000,      5],\n",
       "       [    32, 500000,      3],\n",
       "       [    55,  20000,      6],\n",
       "       [    44,  15000,      8],\n",
       "       [     2,  45000,      1],\n",
       "       [    23,  20000,      5],\n",
       "       [    45,     -1,      0],\n",
       "       [   566, 361266,      2],\n",
       "       [    34,  31267,      2],\n",
       "       [    -1, 482848,     11],\n",
       "       [    77,  43747,      5],\n",
       "       [    23,     -1,      6],\n",
       "       [   111,  89423,      4],\n",
       "       [    23,   8589,     -1],\n",
       "       [    55,  44243,      2],\n",
       "       [    66,  43444,      2],\n",
       "       [    33,     -1,      9],\n",
       "       [    77,   4283,      3],\n",
       "       [    33,  99238,      1],\n",
       "       [    12,  37373,     -1]])"
      ]
     },
     "execution_count": 117,
     "metadata": {},
     "output_type": "execute_result"
    }
   ],
   "source": [
    "df=df[1:,]\n",
    "df"
   ]
  },
  {
   "cell_type": "code",
   "execution_count": 118,
   "id": "12beeb6b",
   "metadata": {},
   "outputs": [
    {
     "data": {
      "text/plain": [
       "array([ 43,  33,  32,  55,  44,   2,  23,  45, 566,  34,  -1,  77,  23,\n",
       "       111,  23,  55,  66,  33,  77,  33,  12])"
      ]
     },
     "execution_count": 118,
     "metadata": {},
     "output_type": "execute_result"
    }
   ],
   "source": [
    "age=df[:,0]\n",
    "age"
   ]
  },
  {
   "cell_type": "code",
   "execution_count": 119,
   "id": "37edcecb",
   "metadata": {},
   "outputs": [
    {
     "data": {
      "text/plain": [
       "array([ 43.,  33.,  32.,  55.,  44.,   2.,  23.,  45., 566.,  34.,  nan,\n",
       "        77.,  23., 111.,  23.,  55.,  66.,  33.,  77.,  33.,  12.])"
      ]
     },
     "execution_count": 119,
     "metadata": {},
     "output_type": "execute_result"
    }
   ],
   "source": [
    "age=np.where(age==-1,np.nan,age)\n",
    "age"
   ]
  },
  {
   "cell_type": "code",
   "execution_count": 120,
   "id": "cb0d7e4b",
   "metadata": {},
   "outputs": [
    {
     "data": {
      "text/plain": [
       "array([ 43.  ,  33.  ,  32.  ,  55.  ,  44.  ,   2.  ,  23.  ,  45.  ,\n",
       "       566.  ,  34.  ,  69.35,  77.  ,  23.  , 111.  ,  23.  ,  55.  ,\n",
       "        66.  ,  33.  ,  77.  ,  33.  ,  12.  ])"
      ]
     },
     "execution_count": 120,
     "metadata": {},
     "output_type": "execute_result"
    }
   ],
   "source": [
    "age=np.where(np.isnan(age),np.nanmean(age),age)\n",
    "age"
   ]
  },
  {
   "cell_type": "code",
   "execution_count": 123,
   "id": "bacc0d32",
   "metadata": {},
   "outputs": [
    {
     "data": {
      "text/plain": [
       "array([[    43,  20000,      5],\n",
       "       [    33,  40000,      5],\n",
       "       [    32, 500000,      3],\n",
       "       [    55,  20000,      6],\n",
       "       [    44,  15000,      8],\n",
       "       [     2,  45000,      1],\n",
       "       [    23,  20000,      5],\n",
       "       [    45,     -1,      0],\n",
       "       [   566, 361266,      2],\n",
       "       [    34,  31267,      2],\n",
       "       [    -1, 482848,     11],\n",
       "       [    77,  43747,      5],\n",
       "       [    23,     -1,      6],\n",
       "       [   111,  89423,      4],\n",
       "       [    23,   8589,     -1],\n",
       "       [    55,  44243,      2],\n",
       "       [    66,  43444,      2],\n",
       "       [    33,     -1,      9],\n",
       "       [    77,   4283,      3],\n",
       "       [    33,  99238,      1],\n",
       "       [    12,  37373,     -1]])"
      ]
     },
     "execution_count": 123,
     "metadata": {},
     "output_type": "execute_result"
    }
   ],
   "source": [
    "df=df[1:]\n",
    "df"
   ]
  },
  {
   "cell_type": "code",
   "execution_count": 124,
   "id": "95a61b98",
   "metadata": {},
   "outputs": [
    {
     "data": {
      "text/plain": [
       "array([ 20000,  40000, 500000,  20000,  15000,  45000,  20000,     -1,\n",
       "       361266,  31267, 482848,  43747,     -1,  89423,   8589,  44243,\n",
       "        43444,     -1,   4283,  99238,  37373])"
      ]
     },
     "execution_count": 124,
     "metadata": {},
     "output_type": "execute_result"
    }
   ],
   "source": [
    "salary=df[:,1]\n",
    "salary"
   ]
  },
  {
   "cell_type": "code",
   "execution_count": 125,
   "id": "29983bca",
   "metadata": {},
   "outputs": [
    {
     "data": {
      "text/plain": [
       "array([False, False, False, False, False, False, False,  True, False,\n",
       "       False, False, False,  True, False, False, False, False,  True,\n",
       "       False, False, False])"
      ]
     },
     "execution_count": 125,
     "metadata": {},
     "output_type": "execute_result"
    }
   ],
   "source": [
    "salary==-1"
   ]
  },
  {
   "cell_type": "code",
   "execution_count": 126,
   "id": "5fdf5309",
   "metadata": {},
   "outputs": [],
   "source": [
    "salary=np.where(salary==-1,np.nan,salary)"
   ]
  },
  {
   "cell_type": "code",
   "execution_count": 127,
   "id": "339d616f",
   "metadata": {},
   "outputs": [
    {
     "data": {
      "text/plain": [
       "array([ 20000.,  40000., 500000.,  20000.,  15000.,  45000.,  20000.,\n",
       "           nan, 361266.,  31267., 482848.,  43747.,     nan,  89423.,\n",
       "         8589.,  44243.,  43444.,     nan,   4283.,  99238.,  37373.])"
      ]
     },
     "execution_count": 127,
     "metadata": {},
     "output_type": "execute_result"
    }
   ],
   "source": [
    "salary"
   ]
  },
  {
   "cell_type": "code",
   "execution_count": 128,
   "id": "a8bdb14d",
   "metadata": {},
   "outputs": [],
   "source": [
    "salary=np.where(np.isnan(salary),np.nanmean(salary),salary)"
   ]
  },
  {
   "cell_type": "code",
   "execution_count": 129,
   "id": "e14f063d",
   "metadata": {},
   "outputs": [
    {
     "data": {
      "text/plain": [
       "array([ 20000.        ,  40000.        , 500000.        ,  20000.        ,\n",
       "        15000.        ,  45000.        ,  20000.        , 105873.38888889,\n",
       "       361266.        ,  31267.        , 482848.        ,  43747.        ,\n",
       "       105873.38888889,  89423.        ,   8589.        ,  44243.        ,\n",
       "        43444.        , 105873.38888889,   4283.        ,  99238.        ,\n",
       "        37373.        ])"
      ]
     },
     "execution_count": 129,
     "metadata": {},
     "output_type": "execute_result"
    }
   ],
   "source": [
    "salary"
   ]
  },
  {
   "cell_type": "code",
   "execution_count": 131,
   "id": "0292eebe",
   "metadata": {},
   "outputs": [
    {
     "data": {
      "text/plain": [
       "array([[    43,  20000,      5],\n",
       "       [    33,  40000,      5],\n",
       "       [    32, 500000,      3],\n",
       "       [    55,  20000,      6],\n",
       "       [    44,  15000,      8],\n",
       "       [     2,  45000,      1],\n",
       "       [    23,  20000,      5],\n",
       "       [    45,     -1,      0],\n",
       "       [   566, 361266,      2],\n",
       "       [    34,  31267,      2],\n",
       "       [    -1, 482848,     11],\n",
       "       [    77,  43747,      5],\n",
       "       [    23,     -1,      6],\n",
       "       [   111,  89423,      4],\n",
       "       [    23,   8589,     -1],\n",
       "       [    55,  44243,      2],\n",
       "       [    66,  43444,      2],\n",
       "       [    33,     -1,      9],\n",
       "       [    77,   4283,      3],\n",
       "       [    33,  99238,      1],\n",
       "       [    12,  37373,     -1]])"
      ]
     },
     "execution_count": 131,
     "metadata": {},
     "output_type": "execute_result"
    }
   ],
   "source": [
    "df=df[1:,]\n",
    "df"
   ]
  },
  {
   "cell_type": "code",
   "execution_count": 132,
   "id": "cced3ebc",
   "metadata": {},
   "outputs": [
    {
     "data": {
      "text/plain": [
       "array([ 5,  5,  3,  6,  8,  1,  5,  0,  2,  2, 11,  5,  6,  4, -1,  2,  2,\n",
       "        9,  3,  1, -1])"
      ]
     },
     "execution_count": 132,
     "metadata": {},
     "output_type": "execute_result"
    }
   ],
   "source": [
    "dist=df[:,2]\n",
    "dist"
   ]
  },
  {
   "cell_type": "code",
   "execution_count": 133,
   "id": "a1b7f195",
   "metadata": {},
   "outputs": [
    {
     "data": {
      "text/plain": [
       "array([ 5.,  5.,  3.,  6.,  8.,  1.,  5.,  0.,  2.,  2., 11.,  5.,  6.,\n",
       "        4., nan,  2.,  2.,  9.,  3.,  1., nan])"
      ]
     },
     "execution_count": 133,
     "metadata": {},
     "output_type": "execute_result"
    }
   ],
   "source": [
    "dist=np.where(dist==-1,np.nan,dist)\n",
    "dist"
   ]
  },
  {
   "cell_type": "code",
   "execution_count": 135,
   "id": "d2f349a4",
   "metadata": {},
   "outputs": [],
   "source": [
    "dist=np.where(np.isnan(dist),np.ceil(np.nanmean(dist)),dist)"
   ]
  },
  {
   "cell_type": "code",
   "execution_count": 136,
   "id": "dd896805",
   "metadata": {},
   "outputs": [
    {
     "data": {
      "text/plain": [
       "array([ 5.,  5.,  3.,  6.,  8.,  1.,  5.,  0.,  2.,  2., 11.,  5.,  6.,\n",
       "        4.,  5.,  2.,  2.,  9.,  3.,  1.,  5.])"
      ]
     },
     "execution_count": 136,
     "metadata": {},
     "output_type": "execute_result"
    }
   ],
   "source": [
    "dist"
   ]
  },
  {
   "cell_type": "code",
   "execution_count": 140,
   "id": "8050fb23",
   "metadata": {},
   "outputs": [
    {
     "data": {
      "text/plain": [
       "array([ 43.  ,  33.  ,  32.  ,  55.  ,  44.  ,   2.  ,  23.  ,  45.  ,\n",
       "       566.  ,  34.  ,  69.35,  77.  ,  23.  , 111.  ,  23.  ,  55.  ,\n",
       "        66.  ,  33.  ,  77.  ,  33.  ,  12.  ])"
      ]
     },
     "execution_count": 140,
     "metadata": {},
     "output_type": "execute_result"
    }
   ],
   "source": [
    "age"
   ]
  },
  {
   "cell_type": "code",
   "execution_count": 141,
   "id": "51a6ae5c",
   "metadata": {},
   "outputs": [
    {
     "data": {
      "text/plain": [
       "array([ 20000.        ,  40000.        , 500000.        ,  20000.        ,\n",
       "        15000.        ,  45000.        ,  20000.        , 105873.38888889,\n",
       "       361266.        ,  31267.        , 482848.        ,  43747.        ,\n",
       "       105873.38888889,  89423.        ,   8589.        ,  44243.        ,\n",
       "        43444.        , 105873.38888889,   4283.        ,  99238.        ,\n",
       "        37373.        ])"
      ]
     },
     "execution_count": 141,
     "metadata": {},
     "output_type": "execute_result"
    }
   ],
   "source": [
    "salary"
   ]
  },
  {
   "cell_type": "code",
   "execution_count": 142,
   "id": "274c6ce6",
   "metadata": {},
   "outputs": [
    {
     "data": {
      "text/plain": [
       "array([ 5.,  5.,  3.,  6.,  8.,  1.,  5.,  0.,  2.,  2., 11.,  5.,  6.,\n",
       "        4.,  5.,  2.,  2.,  9.,  3.,  1.,  5.])"
      ]
     },
     "execution_count": 142,
     "metadata": {},
     "output_type": "execute_result"
    }
   ],
   "source": [
    "dist"
   ]
  },
  {
   "cell_type": "code",
   "execution_count": 143,
   "id": "df1b531e",
   "metadata": {},
   "outputs": [
    {
     "data": {
      "text/plain": [
       "array([566.  ,  69.35,  77.  , 111.  ,  66.  ,  77.  ])"
      ]
     },
     "execution_count": 143,
     "metadata": {},
     "output_type": "execute_result"
    }
   ],
   "source": [
    "age[age>60]"
   ]
  },
  {
   "cell_type": "code",
   "execution_count": 144,
   "id": "df91d3fa",
   "metadata": {},
   "outputs": [
    {
     "data": {
      "text/plain": [
       "array([43.  , 33.  , 32.  , 55.  , 44.  ,  2.  , 23.  , 45.  , 60.  ,\n",
       "       34.  , 69.35, 77.  , 23.  , 60.  , 23.  , 55.  , 66.  , 33.  ,\n",
       "       77.  , 33.  , 12.  ])"
      ]
     },
     "execution_count": 144,
     "metadata": {},
     "output_type": "execute_result"
    }
   ],
   "source": [
    "np.where(age>100,60,age)"
   ]
  },
  {
   "cell_type": "code",
   "execution_count": null,
   "id": "94c19d95",
   "metadata": {},
   "outputs": [],
   "source": []
  },
  {
   "cell_type": "code",
   "execution_count": null,
   "id": "10cbc6b7",
   "metadata": {},
   "outputs": [],
   "source": []
  },
  {
   "cell_type": "code",
   "execution_count": null,
   "id": "5b1b98c4",
   "metadata": {},
   "outputs": [],
   "source": []
  }
 ],
 "metadata": {
  "kernelspec": {
   "display_name": "Python 3 (ipykernel)",
   "language": "python",
   "name": "python3"
  },
  "language_info": {
   "codemirror_mode": {
    "name": "ipython",
    "version": 3
   },
   "file_extension": ".py",
   "mimetype": "text/x-python",
   "name": "python",
   "nbconvert_exporter": "python",
   "pygments_lexer": "ipython3",
   "version": "3.11.5"
  }
 },
 "nbformat": 4,
 "nbformat_minor": 5
}
